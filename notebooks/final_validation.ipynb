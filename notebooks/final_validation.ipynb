{
 "cells": [
  {
   "cell_type": "code",
   "execution_count": 2,
   "metadata": {},
   "outputs": [],
   "source": [
    "import pandas as pd\n",
    "import numpy as np\n",
    "from bs4 import BeautifulSoup\n",
    "import re\n",
    "import requests\n",
    "from urllib.request import urlopen, Request\n",
    "import time\n",
    "from itertools import chain\n",
    "from urllib.parse import quote \n",
    "import torch\n",
    "from datasets import ClassLabel\n",
    "from transformers import BertTokenizer\n",
    "from transformers import BertForSequenceClassification\n",
    "import warnings\n",
    "import nltk\n",
    "from nltk.corpus import stopwords\n",
    "import random\n",
    "import seaborn as sns\n",
    "import matplotlib.pyplot as plt\n",
    "from sklearn.metrics import f1_score\n",
    "warnings.filterwarnings('ignore')\n",
    "\n",
    "stop_words = stopwords.words('english')"
   ]
  },
  {
   "cell_type": "code",
   "execution_count": 4,
   "metadata": {},
   "outputs": [],
   "source": [
    "poke_df = pd.read_pickle('poke_df.pkl')"
   ]
  },
  {
   "attachments": {},
   "cell_type": "markdown",
   "metadata": {},
   "source": [
    "Create a dataframe for the opening paragraph for each Pokémon's Biology on Bulbapedia."
   ]
  },
  {
   "cell_type": "code",
   "execution_count": 208,
   "metadata": {},
   "outputs": [],
   "source": [
    "bulba_df = pd.DataFrame()\n",
    "poketext = []\n",
    "for pokemon in poke_df.Pokemon.unique():\n",
    "    # print(pokemon)\n",
    "    \n",
    "    if pokemon == 'Ho-oh':\n",
    "        pokemon = 'Ho-Oh'\n",
    "    response = requests.get(f'https://bulbapedia.bulbagarden.net/wiki/{quote(pokemon)}', headers={\"User-Agent\":\"Mozilla/5.0\"})\n",
    "    if response.status_code == 200:\n",
    "        url = f'https://bulbapedia.bulbagarden.net/wiki/{quote(pokemon)}'\n",
    "        pass\n",
    "    else:\n",
    "        # try just the first word\n",
    "        if requests.get(\n",
    "            f'https://bulbapedia.bulbagarden.net/wiki/{pokemon.split()[0]}', headers={\"User-Agent\":\"Mozilla/5.0\"}\n",
    "            ).status_code == 200:\n",
    "            pokemon = pokemon.split()[0]\n",
    "            url = f'https://bulbapedia.bulbagarden.net/wiki/{pokemon.split()[0]}'\n",
    "            \n",
    "        elif requests.get(\n",
    "            f'https://bulbapedia.bulbagarden.net/wiki/{\"_\".join([x for x in pokemon.split()])}'\n",
    "            , headers={\"User-Agent\":\"Mozilla/5.0\"}\n",
    "            ).status_code == 200:\n",
    "            url = f'https://bulbapedia.bulbagarden.net/wiki/{\"_\".join([x for x in pokemon.split()])}'\n",
    "\n",
    "        elif requests.get(\n",
    "            f'https://bulbapedia.bulbagarden.net/wiki/{\"_\".join([x for x in quote(pokemon).split()])}'\n",
    "            , headers={\"User-Agent\":\"Mozilla/5.0\"}\n",
    "            ).status_code == 200:\n",
    "            url = f'https://bulbapedia.bulbagarden.net/wiki/{\"_\".join([x for x in quote(pokemon).split()])}'\n",
    "\n",
    "    current_description = []\n",
    "    req = Request(url , headers={'User-Agent': 'Mozilla/5.0'})\n",
    "    webpage = urlopen(req).read()\n",
    "    page_soup = BeautifulSoup(webpage, \"html.parser\")\n",
    "    for tag in page_soup.find_all('h2')[1:]:\n",
    "        if tag.text.strip() == 'Biology':\n",
    "            for item in tag.find_next_siblings('p'):\n",
    "                if 'Biology' in item.find_previous_siblings('h2')[0].text.strip():\n",
    "                    current_description.append(item.text.strip().replace(pokemon,''))\n",
    "    if current_description:                \n",
    "        poketext.append(current_description[0])\n",
    "    else:\n",
    "        poketext.append([])\n",
    "bulba_df['Pokemon'] = poke_df.Pokemon.unique()\n",
    "bulba_df['Description'] = poketext\n",
    "    \n",
    "        "
   ]
  },
  {
   "cell_type": "code",
   "execution_count": 209,
   "metadata": {},
   "outputs": [
    {
     "data": {
      "text/html": [
       "<div>\n",
       "<style scoped>\n",
       "    .dataframe tbody tr th:only-of-type {\n",
       "        vertical-align: middle;\n",
       "    }\n",
       "\n",
       "    .dataframe tbody tr th {\n",
       "        vertical-align: top;\n",
       "    }\n",
       "\n",
       "    .dataframe thead th {\n",
       "        text-align: right;\n",
       "    }\n",
       "</style>\n",
       "<table border=\"1\" class=\"dataframe\">\n",
       "  <thead>\n",
       "    <tr style=\"text-align: right;\">\n",
       "      <th></th>\n",
       "      <th>Pokemon</th>\n",
       "      <th>Description</th>\n",
       "    </tr>\n",
       "  </thead>\n",
       "  <tbody>\n",
       "    <tr>\n",
       "      <th>0</th>\n",
       "      <td>Bulbasaur</td>\n",
       "      <td>is a small, quadrupedal amphibian Pokémon tha...</td>\n",
       "    </tr>\n",
       "    <tr>\n",
       "      <th>1</th>\n",
       "      <td>Ivysaur</td>\n",
       "      <td>is a quadrupedal amphibian Pokémon that has b...</td>\n",
       "    </tr>\n",
       "    <tr>\n",
       "      <th>2</th>\n",
       "      <td>Venusaur</td>\n",
       "      <td>is a squat, quadrupedal amphibian Pokémon wit...</td>\n",
       "    </tr>\n",
       "    <tr>\n",
       "      <th>3</th>\n",
       "      <td>Charmander</td>\n",
       "      <td>is a bipedal, reptilian Pokémon with a primar...</td>\n",
       "    </tr>\n",
       "    <tr>\n",
       "      <th>4</th>\n",
       "      <td>Charmeleon</td>\n",
       "      <td>is a bipedal, reptilian Pokémon. It has dark ...</td>\n",
       "    </tr>\n",
       "    <tr>\n",
       "      <th>...</th>\n",
       "      <td>...</td>\n",
       "      <td>...</td>\n",
       "    </tr>\n",
       "    <tr>\n",
       "      <th>1003</th>\n",
       "      <td>Chi-Yu</td>\n",
       "      <td>is a fish-like Pokémon. It is composed of two...</td>\n",
       "    </tr>\n",
       "    <tr>\n",
       "      <th>1004</th>\n",
       "      <td>Roaring Moon</td>\n",
       "      <td>is a quadrupedal, draconic Pokémon with a lon...</td>\n",
       "    </tr>\n",
       "    <tr>\n",
       "      <th>1005</th>\n",
       "      <td>Iron Valiant</td>\n",
       "      <td>[]</td>\n",
       "    </tr>\n",
       "    <tr>\n",
       "      <th>1006</th>\n",
       "      <td>Koraidon</td>\n",
       "      <td>Apex Build  is a large reptilian Pokémon. Most...</td>\n",
       "    </tr>\n",
       "    <tr>\n",
       "      <th>1007</th>\n",
       "      <td>Miraidon</td>\n",
       "      <td>Ultimate Mode  is a large robotic reptilian Po...</td>\n",
       "    </tr>\n",
       "  </tbody>\n",
       "</table>\n",
       "<p>1008 rows × 2 columns</p>\n",
       "</div>"
      ],
      "text/plain": [
       "           Pokemon                                        Description\n",
       "0        Bulbasaur   is a small, quadrupedal amphibian Pokémon tha...\n",
       "1          Ivysaur   is a quadrupedal amphibian Pokémon that has b...\n",
       "2         Venusaur   is a squat, quadrupedal amphibian Pokémon wit...\n",
       "3       Charmander   is a bipedal, reptilian Pokémon with a primar...\n",
       "4       Charmeleon   is a bipedal, reptilian Pokémon. It has dark ...\n",
       "...            ...                                                ...\n",
       "1003        Chi-Yu   is a fish-like Pokémon. It is composed of two...\n",
       "1004  Roaring Moon   is a quadrupedal, draconic Pokémon with a lon...\n",
       "1005  Iron Valiant                                                 []\n",
       "1006      Koraidon  Apex Build  is a large reptilian Pokémon. Most...\n",
       "1007      Miraidon  Ultimate Mode  is a large robotic reptilian Po...\n",
       "\n",
       "[1008 rows x 2 columns]"
      ]
     },
     "execution_count": 209,
     "metadata": {},
     "output_type": "execute_result"
    }
   ],
   "source": [
    "bulba_df"
   ]
  },
  {
   "attachments": {},
   "cell_type": "markdown",
   "metadata": {},
   "source": [
    "Some blanks. Let's fix this..."
   ]
  },
  {
   "cell_type": "code",
   "execution_count": 211,
   "metadata": {},
   "outputs": [
    {
     "data": {
      "text/plain": [
       "200"
      ]
     },
     "execution_count": 211,
     "metadata": {},
     "output_type": "execute_result"
    }
   ],
   "source": [
    "requests.get(f'https://bulbapedia.bulbagarden.net/wiki/{\"Tapu_Koko\"}').status_code"
   ]
  },
  {
   "cell_type": "code",
   "execution_count": 226,
   "metadata": {},
   "outputs": [],
   "source": [
    "blank_pokes = []\n",
    "for poke in list(bulba_df[bulba_df['Description'].astype(str) == '[]'].Pokemon):\n",
    "    if requests.get(f'https://bulbapedia.bulbagarden.net/wiki/{\"_\".join([x for x in poke.split()])}').status_code == 200:\n",
    "        url = f'https://bulbapedia.bulbagarden.net/wiki/{\"_\".join([x for x in poke.split()])}'\n",
    "    current_description = []\n",
    "    req = Request(url , headers={'User-Agent': 'Mozilla/5.0'})\n",
    "    webpage = urlopen(req).read()\n",
    "    page_soup = BeautifulSoup(webpage, \"html.parser\")\n",
    "    for tag in page_soup.find_all('h2')[1:]:\n",
    "        if tag.text.strip() == 'Biology':\n",
    "            for item in tag.find_next_siblings('p'):\n",
    "                if 'Biology' in item.find_previous_siblings('h2')[0].text.strip():\n",
    "                    current_description.append(item.text.strip().replace(pokemon,''))\n",
    "    if current_description:                \n",
    "        blank_pokes.append(current_description[0])"
   ]
  },
  {
   "cell_type": "code",
   "execution_count": 237,
   "metadata": {},
   "outputs": [],
   "source": [
    "empty_pokemon = bulba_df[bulba_df['Description'].astype(str) == '[]'].Pokemon.index\n",
    "for i in range(len(bulba_df[bulba_df['Description'].astype(str) == '[]'].Pokemon.index)):\n",
    "    bulba_df.iloc[empty_pokemon[i],1] = blank_pokes[i]"
   ]
  },
  {
   "cell_type": "code",
   "execution_count": 239,
   "metadata": {},
   "outputs": [
    {
     "data": {
      "text/html": [
       "<div>\n",
       "<style scoped>\n",
       "    .dataframe tbody tr th:only-of-type {\n",
       "        vertical-align: middle;\n",
       "    }\n",
       "\n",
       "    .dataframe tbody tr th {\n",
       "        vertical-align: top;\n",
       "    }\n",
       "\n",
       "    .dataframe thead th {\n",
       "        text-align: right;\n",
       "    }\n",
       "</style>\n",
       "<table border=\"1\" class=\"dataframe\">\n",
       "  <thead>\n",
       "    <tr style=\"text-align: right;\">\n",
       "      <th></th>\n",
       "      <th>Pokemon</th>\n",
       "      <th>Description</th>\n",
       "    </tr>\n",
       "  </thead>\n",
       "  <tbody>\n",
       "  </tbody>\n",
       "</table>\n",
       "</div>"
      ],
      "text/plain": [
       "Empty DataFrame\n",
       "Columns: [Pokemon, Description]\n",
       "Index: []"
      ]
     },
     "execution_count": 239,
     "metadata": {},
     "output_type": "execute_result"
    }
   ],
   "source": [
    "bulba_df[bulba_df['Description'].astype(str) == '[]']"
   ]
  },
  {
   "attachments": {},
   "cell_type": "markdown",
   "metadata": {},
   "source": [
    "No more blanks. save the df"
   ]
  },
  {
   "cell_type": "code",
   "execution_count": 353,
   "metadata": {},
   "outputs": [],
   "source": [
    "bulba_df.to_csv('bulba_df_valid.csv')"
   ]
  },
  {
   "attachments": {},
   "cell_type": "markdown",
   "metadata": {},
   "source": [
    "Load in previous stuff...."
   ]
  },
  {
   "cell_type": "code",
   "execution_count": 5,
   "metadata": {},
   "outputs": [],
   "source": [
    "# create tokenizer from pretrained bert\n",
    "tokenizer = BertTokenizer.from_pretrained(\"bert-base-uncased\")\n",
    "\n",
    "# establish int to pokemon relationship\n",
    "class_converter = ClassLabel(num_classes = 1008, names = list(poke_df.Pokemon.unique()))\n",
    "\n",
    "\n",
    "model1 = BertForSequenceClassification.from_pretrained(\n",
    "    \"pokemodel_apr_5\",from_tf=False)\n",
    "\n",
    "model2 = BertForSequenceClassification.from_pretrained(\n",
    "    \"pokemodel_apr_6\",from_tf=False)\n",
    "\n",
    "model3 = BertForSequenceClassification.from_pretrained(\n",
    "    \"pokemodel_apr17\",from_tf=False)\n",
    "\n",
    "model4 = BertForSequenceClassification.from_pretrained(\n",
    "    \"pokemodel_stopwords_1\",from_tf=False)"
   ]
  },
  {
   "attachments": {},
   "cell_type": "markdown",
   "metadata": {},
   "source": [
    "Now let's test it out. In the final model, I ran it all over again, but filtered for stopwords. I'm curious if that will perform better than the best model before it. \n",
    "\n",
    "What we will do here is compare all four of these models AND a baseline of random choice Pokémon against two data sets"
   ]
  },
  {
   "attachments": {},
   "cell_type": "markdown",
   "metadata": {},
   "source": [
    "The first dataset is the first paragraph of each Pokemon's biology scraped off of Bublapedia. Bulbapedia is the only source online that I could find that I did not train the model on, so it shouldn't be perfectly predicting. "
   ]
  },
  {
   "attachments": {},
   "cell_type": "markdown",
   "metadata": {},
   "source": [
    "The second dataset is where I asked random people to describe images of Pokémon. If this Pokedex was to work in real life, it would be used when a person observes a Pokemon and writes down what they see. Therefore, I had people write down what they see, and we will test if this model is more accurate than a baseline."
   ]
  },
  {
   "cell_type": "code",
   "execution_count": 249,
   "metadata": {},
   "outputs": [],
   "source": [
    "def predict_pokemon_(desc, model, filter_stopwords = False):\n",
    "\n",
    "        \n",
    "        for descriptor in ['Pokémon', 'Pokemon', 'pokemon','pokémon']:\n",
    "            if descriptor in desc:\n",
    "                desc = desc.replace(descriptor,'')\n",
    "        if filter_stopwords:\n",
    "            desc = ' '.join([word for word in desc.split() if word not in (stop_words)])\n",
    "\n",
    "        \n",
    "        pred_inputs = tokenizer(desc, return_tensors=\"pt\")\n",
    "    \n",
    "        with torch.no_grad():\n",
    "\n",
    "            logits = model(**pred_inputs).logits\n",
    "\n",
    "\n",
    "            predicted_class_id = logits.argmax().item()\n",
    "            second_class_id = torch.topk(logits.flatten(), 3).indices[1]\n",
    "            third_class_id = torch.topk(logits.flatten(), 3).indices[2]\n",
    "\n",
    "            first_pokemon = class_converter.int2str(predicted_class_id)\n",
    "            second_pokemon = class_converter.int2str(second_class_id.item())\n",
    "            third_pokemon = class_converter.int2str(third_class_id.item())\n",
    "\n",
    "        return [first_pokemon, second_pokemon, third_pokemon]"
   ]
  },
  {
   "cell_type": "code",
   "execution_count": 260,
   "metadata": {},
   "outputs": [
    {
     "data": {
      "text/html": [
       "<div>\n",
       "<style scoped>\n",
       "    .dataframe tbody tr th:only-of-type {\n",
       "        vertical-align: middle;\n",
       "    }\n",
       "\n",
       "    .dataframe tbody tr th {\n",
       "        vertical-align: top;\n",
       "    }\n",
       "\n",
       "    .dataframe thead th {\n",
       "        text-align: right;\n",
       "    }\n",
       "</style>\n",
       "<table border=\"1\" class=\"dataframe\">\n",
       "  <thead>\n",
       "    <tr style=\"text-align: right;\">\n",
       "      <th></th>\n",
       "      <th>Pokemon</th>\n",
       "      <th>Description</th>\n",
       "    </tr>\n",
       "  </thead>\n",
       "  <tbody>\n",
       "    <tr>\n",
       "      <th>0</th>\n",
       "      <td>Bulbasaur</td>\n",
       "      <td>is a small, quadrupedal amphibian Pokémon tha...</td>\n",
       "    </tr>\n",
       "    <tr>\n",
       "      <th>1</th>\n",
       "      <td>Ivysaur</td>\n",
       "      <td>is a quadrupedal amphibian Pokémon that has b...</td>\n",
       "    </tr>\n",
       "    <tr>\n",
       "      <th>2</th>\n",
       "      <td>Venusaur</td>\n",
       "      <td>is a squat, quadrupedal amphibian Pokémon wit...</td>\n",
       "    </tr>\n",
       "    <tr>\n",
       "      <th>3</th>\n",
       "      <td>Charmander</td>\n",
       "      <td>is a bipedal, reptilian Pokémon with a primar...</td>\n",
       "    </tr>\n",
       "    <tr>\n",
       "      <th>4</th>\n",
       "      <td>Charmeleon</td>\n",
       "      <td>is a bipedal, reptilian Pokémon. It has dark ...</td>\n",
       "    </tr>\n",
       "    <tr>\n",
       "      <th>...</th>\n",
       "      <td>...</td>\n",
       "      <td>...</td>\n",
       "    </tr>\n",
       "    <tr>\n",
       "      <th>1003</th>\n",
       "      <td>Chi-Yu</td>\n",
       "      <td>is a fish-like Pokémon. It is composed of two...</td>\n",
       "    </tr>\n",
       "    <tr>\n",
       "      <th>1004</th>\n",
       "      <td>Roaring Moon</td>\n",
       "      <td>is a quadrupedal, draconic Pokémon with a lon...</td>\n",
       "    </tr>\n",
       "    <tr>\n",
       "      <th>1005</th>\n",
       "      <td>Iron Valiant</td>\n",
       "      <td>Iron Valiant is a mechanical, bipedal Pokémon ...</td>\n",
       "    </tr>\n",
       "    <tr>\n",
       "      <th>1006</th>\n",
       "      <td>Koraidon</td>\n",
       "      <td>Apex Build  is a large reptilian Pokémon. Most...</td>\n",
       "    </tr>\n",
       "    <tr>\n",
       "      <th>1007</th>\n",
       "      <td>Miraidon</td>\n",
       "      <td>Ultimate Mode  is a large robotic reptilian Po...</td>\n",
       "    </tr>\n",
       "  </tbody>\n",
       "</table>\n",
       "<p>1008 rows × 2 columns</p>\n",
       "</div>"
      ],
      "text/plain": [
       "           Pokemon                                        Description\n",
       "0        Bulbasaur   is a small, quadrupedal amphibian Pokémon tha...\n",
       "1          Ivysaur   is a quadrupedal amphibian Pokémon that has b...\n",
       "2         Venusaur   is a squat, quadrupedal amphibian Pokémon wit...\n",
       "3       Charmander   is a bipedal, reptilian Pokémon with a primar...\n",
       "4       Charmeleon   is a bipedal, reptilian Pokémon. It has dark ...\n",
       "...            ...                                                ...\n",
       "1003        Chi-Yu   is a fish-like Pokémon. It is composed of two...\n",
       "1004  Roaring Moon   is a quadrupedal, draconic Pokémon with a lon...\n",
       "1005  Iron Valiant  Iron Valiant is a mechanical, bipedal Pokémon ...\n",
       "1006      Koraidon  Apex Build  is a large reptilian Pokémon. Most...\n",
       "1007      Miraidon  Ultimate Mode  is a large robotic reptilian Po...\n",
       "\n",
       "[1008 rows x 2 columns]"
      ]
     },
     "execution_count": 260,
     "metadata": {},
     "output_type": "execute_result"
    }
   ],
   "source": [
    "bulba_df"
   ]
  },
  {
   "cell_type": "code",
   "execution_count": 265,
   "metadata": {},
   "outputs": [],
   "source": [
    "# baseline\n",
    "bulba_df['baseline_preds'] = [random.choices(poke_df.Pokemon.unique(), k = 3) for x in range(len(bulba_df))]\n",
    "# apr 5\n",
    "bulba_df['V1_preds'] = bulba_df.Description.apply(lambda x: predict_pokemon_(x, model = model1))\n",
    "# apr 6\n",
    "bulba_df['V2_preds'] = bulba_df.Description.apply(lambda x: predict_pokemon_(x, model = model2))\n",
    "# apr 17\n",
    "bulba_df['V3_preds'] = bulba_df.Description.apply(lambda x: predict_pokemon_(x, model = model3))\n",
    "# stopwords\n",
    "bulba_df['V4_preds'] = bulba_df.Description.apply(lambda x: predict_pokemon_(x, model = model4, filter_stopwords= True))\n"
   ]
  },
  {
   "cell_type": "code",
   "execution_count": 276,
   "metadata": {},
   "outputs": [
    {
     "data": {
      "text/html": [
       "<div>\n",
       "<style scoped>\n",
       "    .dataframe tbody tr th:only-of-type {\n",
       "        vertical-align: middle;\n",
       "    }\n",
       "\n",
       "    .dataframe tbody tr th {\n",
       "        vertical-align: top;\n",
       "    }\n",
       "\n",
       "    .dataframe thead th {\n",
       "        text-align: right;\n",
       "    }\n",
       "</style>\n",
       "<table border=\"1\" class=\"dataframe\">\n",
       "  <thead>\n",
       "    <tr style=\"text-align: right;\">\n",
       "      <th></th>\n",
       "      <th>Pokemon</th>\n",
       "      <th>Description</th>\n",
       "      <th>V1_preds</th>\n",
       "      <th>V2_preds</th>\n",
       "      <th>V3_preds</th>\n",
       "      <th>V4_preds</th>\n",
       "      <th>baseline_preds</th>\n",
       "    </tr>\n",
       "  </thead>\n",
       "  <tbody>\n",
       "    <tr>\n",
       "      <th>0</th>\n",
       "      <td>Bulbasaur</td>\n",
       "      <td>is a small, quadrupedal amphibian Pokémon tha...</td>\n",
       "      <td>[Bulbasaur, Ivysaur, Butterfree]</td>\n",
       "      <td>[Ivysaur, Bulbasaur, Nincada]</td>\n",
       "      <td>[Bulbasaur, Ivysaur, Budew]</td>\n",
       "      <td>[Ivysaur, Bulbasaur, Grovyle]</td>\n",
       "      <td>[Vibrava, Pidgey, Wailord]</td>\n",
       "    </tr>\n",
       "    <tr>\n",
       "      <th>1</th>\n",
       "      <td>Ivysaur</td>\n",
       "      <td>is a quadrupedal amphibian Pokémon that has b...</td>\n",
       "      <td>[Ivysaur, Butterfree, Vileplume]</td>\n",
       "      <td>[Ivysaur, Vileplume, Weedle]</td>\n",
       "      <td>[Ivysaur, Budew, Bonsly]</td>\n",
       "      <td>[Ivysaur, Budew, Bonsly]</td>\n",
       "      <td>[Tentacruel, Drifblim, Kyogre]</td>\n",
       "    </tr>\n",
       "    <tr>\n",
       "      <th>2</th>\n",
       "      <td>Venusaur</td>\n",
       "      <td>is a squat, quadrupedal amphibian Pokémon wit...</td>\n",
       "      <td>[Bulbasaur, Ivysaur, Budew]</td>\n",
       "      <td>[Ivysaur, Bulbasaur, Budew]</td>\n",
       "      <td>[Ivysaur, Budew, Bulbasaur]</td>\n",
       "      <td>[Ivysaur, Bulbasaur, Budew]</td>\n",
       "      <td>[Yveltal, Klawf, Grafaiai]</td>\n",
       "    </tr>\n",
       "    <tr>\n",
       "      <th>3</th>\n",
       "      <td>Charmander</td>\n",
       "      <td>is a bipedal, reptilian Pokémon with a primar...</td>\n",
       "      <td>[Charmander, Vulpix, Salamence]</td>\n",
       "      <td>[Charmander, Vulpix, Charmeleon]</td>\n",
       "      <td>[Charmander, Charmeleon, Vulpix]</td>\n",
       "      <td>[Vulpix, Charmander, Charmeleon]</td>\n",
       "      <td>[Stoutland, Ursaluna, Seviper]</td>\n",
       "    </tr>\n",
       "    <tr>\n",
       "      <th>4</th>\n",
       "      <td>Charmeleon</td>\n",
       "      <td>is a bipedal, reptilian Pokémon. It has dark ...</td>\n",
       "      <td>[Azurill, Vulpix, Venomoth]</td>\n",
       "      <td>[Venomoth, Vulpix, Charmeleon]</td>\n",
       "      <td>[Charmeleon, Pinsir, Monferno]</td>\n",
       "      <td>[Pinsir, Charmeleon, Nidorino]</td>\n",
       "      <td>[Nymble, Victreebel, Golett]</td>\n",
       "    </tr>\n",
       "    <tr>\n",
       "      <th>...</th>\n",
       "      <td>...</td>\n",
       "      <td>...</td>\n",
       "      <td>...</td>\n",
       "      <td>...</td>\n",
       "      <td>...</td>\n",
       "      <td>...</td>\n",
       "      <td>...</td>\n",
       "    </tr>\n",
       "    <tr>\n",
       "      <th>1003</th>\n",
       "      <td>Chi-Yu</td>\n",
       "      <td>is a fish-like Pokémon. It is composed of two...</td>\n",
       "      <td>[Sableye, Tentacruel, Grumpig]</td>\n",
       "      <td>[Grumpig, Carbink, Reuniclus]</td>\n",
       "      <td>[Reuniclus, Carbink, Kommo-o]</td>\n",
       "      <td>[Chi-Yu, Roaring Moon, Diancie]</td>\n",
       "      <td>[Breloom, Abra, Roselia]</td>\n",
       "    </tr>\n",
       "    <tr>\n",
       "      <th>1004</th>\n",
       "      <td>Roaring Moon</td>\n",
       "      <td>is a quadrupedal, draconic Pokémon with a lon...</td>\n",
       "      <td>[Crobat, Fearow, Sneasel]</td>\n",
       "      <td>[Fearow, Crobat, Lanturn]</td>\n",
       "      <td>[Arcanine, Lugia, Empoleon]</td>\n",
       "      <td>[Mandibuzz, Empoleon, Golbat]</td>\n",
       "      <td>[Golurk, Grookey, Donphan]</td>\n",
       "    </tr>\n",
       "    <tr>\n",
       "      <th>1005</th>\n",
       "      <td>Iron Valiant</td>\n",
       "      <td>Iron Valiant is a mechanical, bipedal Pokémon ...</td>\n",
       "      <td>[Wurmple, Mareep, Farfetch'd]</td>\n",
       "      <td>[Tangrowth, Farfetch'd, Bellsprout]</td>\n",
       "      <td>[Decidueye, Doublade, Ceruledge]</td>\n",
       "      <td>[Gallade, Scyther, Mime Jr.]</td>\n",
       "      <td>[Fuecoco, Whimsicott, Hitmontop]</td>\n",
       "    </tr>\n",
       "    <tr>\n",
       "      <th>1006</th>\n",
       "      <td>Koraidon</td>\n",
       "      <td>Apex Build  is a large reptilian Pokémon. Most...</td>\n",
       "      <td>[Masquerain, Spearow, Beedrill]</td>\n",
       "      <td>[Masquerain, Beedrill, Spearow]</td>\n",
       "      <td>[Rowlet, Talonflame, Corviknight]</td>\n",
       "      <td>[Koraidon, Corviknight, Aerodactyl]</td>\n",
       "      <td>[Grubbin, Hawlucha, Litten]</td>\n",
       "    </tr>\n",
       "    <tr>\n",
       "      <th>1007</th>\n",
       "      <td>Miraidon</td>\n",
       "      <td>Ultimate Mode  is a large robotic reptilian Po...</td>\n",
       "      <td>[Crobat, Masquerain, Salamence]</td>\n",
       "      <td>[Crobat, Masquerain, Natu]</td>\n",
       "      <td>[Zeraora, Eternatus, Celesteela]</td>\n",
       "      <td>[Miraidon, Celesteela, Koraidon]</td>\n",
       "      <td>[Lotad, Honedge, Whiscash]</td>\n",
       "    </tr>\n",
       "  </tbody>\n",
       "</table>\n",
       "<p>1008 rows × 7 columns</p>\n",
       "</div>"
      ],
      "text/plain": [
       "           Pokemon                                        Description  \\\n",
       "0        Bulbasaur   is a small, quadrupedal amphibian Pokémon tha...   \n",
       "1          Ivysaur   is a quadrupedal amphibian Pokémon that has b...   \n",
       "2         Venusaur   is a squat, quadrupedal amphibian Pokémon wit...   \n",
       "3       Charmander   is a bipedal, reptilian Pokémon with a primar...   \n",
       "4       Charmeleon   is a bipedal, reptilian Pokémon. It has dark ...   \n",
       "...            ...                                                ...   \n",
       "1003        Chi-Yu   is a fish-like Pokémon. It is composed of two...   \n",
       "1004  Roaring Moon   is a quadrupedal, draconic Pokémon with a lon...   \n",
       "1005  Iron Valiant  Iron Valiant is a mechanical, bipedal Pokémon ...   \n",
       "1006      Koraidon  Apex Build  is a large reptilian Pokémon. Most...   \n",
       "1007      Miraidon  Ultimate Mode  is a large robotic reptilian Po...   \n",
       "\n",
       "                              V1_preds                             V2_preds  \\\n",
       "0     [Bulbasaur, Ivysaur, Butterfree]        [Ivysaur, Bulbasaur, Nincada]   \n",
       "1     [Ivysaur, Butterfree, Vileplume]         [Ivysaur, Vileplume, Weedle]   \n",
       "2          [Bulbasaur, Ivysaur, Budew]          [Ivysaur, Bulbasaur, Budew]   \n",
       "3      [Charmander, Vulpix, Salamence]     [Charmander, Vulpix, Charmeleon]   \n",
       "4          [Azurill, Vulpix, Venomoth]       [Venomoth, Vulpix, Charmeleon]   \n",
       "...                                ...                                  ...   \n",
       "1003    [Sableye, Tentacruel, Grumpig]        [Grumpig, Carbink, Reuniclus]   \n",
       "1004         [Crobat, Fearow, Sneasel]            [Fearow, Crobat, Lanturn]   \n",
       "1005     [Wurmple, Mareep, Farfetch'd]  [Tangrowth, Farfetch'd, Bellsprout]   \n",
       "1006   [Masquerain, Spearow, Beedrill]      [Masquerain, Beedrill, Spearow]   \n",
       "1007   [Crobat, Masquerain, Salamence]           [Crobat, Masquerain, Natu]   \n",
       "\n",
       "                               V3_preds                             V4_preds  \\\n",
       "0           [Bulbasaur, Ivysaur, Budew]        [Ivysaur, Bulbasaur, Grovyle]   \n",
       "1              [Ivysaur, Budew, Bonsly]             [Ivysaur, Budew, Bonsly]   \n",
       "2           [Ivysaur, Budew, Bulbasaur]          [Ivysaur, Bulbasaur, Budew]   \n",
       "3      [Charmander, Charmeleon, Vulpix]     [Vulpix, Charmander, Charmeleon]   \n",
       "4        [Charmeleon, Pinsir, Monferno]       [Pinsir, Charmeleon, Nidorino]   \n",
       "...                                 ...                                  ...   \n",
       "1003      [Reuniclus, Carbink, Kommo-o]      [Chi-Yu, Roaring Moon, Diancie]   \n",
       "1004        [Arcanine, Lugia, Empoleon]        [Mandibuzz, Empoleon, Golbat]   \n",
       "1005   [Decidueye, Doublade, Ceruledge]         [Gallade, Scyther, Mime Jr.]   \n",
       "1006  [Rowlet, Talonflame, Corviknight]  [Koraidon, Corviknight, Aerodactyl]   \n",
       "1007   [Zeraora, Eternatus, Celesteela]     [Miraidon, Celesteela, Koraidon]   \n",
       "\n",
       "                        baseline_preds  \n",
       "0           [Vibrava, Pidgey, Wailord]  \n",
       "1       [Tentacruel, Drifblim, Kyogre]  \n",
       "2           [Yveltal, Klawf, Grafaiai]  \n",
       "3       [Stoutland, Ursaluna, Seviper]  \n",
       "4         [Nymble, Victreebel, Golett]  \n",
       "...                                ...  \n",
       "1003          [Breloom, Abra, Roselia]  \n",
       "1004        [Golurk, Grookey, Donphan]  \n",
       "1005  [Fuecoco, Whimsicott, Hitmontop]  \n",
       "1006       [Grubbin, Hawlucha, Litten]  \n",
       "1007        [Lotad, Honedge, Whiscash]  \n",
       "\n",
       "[1008 rows x 7 columns]"
      ]
     },
     "execution_count": 276,
     "metadata": {},
     "output_type": "execute_result"
    }
   ],
   "source": [
    "bulba_df"
   ]
  },
  {
   "cell_type": "code",
   "execution_count": 289,
   "metadata": {},
   "outputs": [],
   "source": [
    "bulba_df['baseline'] = bulba_df.apply(lambda row: int(row['Pokemon'] in row['baseline_preds']), axis = 1)\n",
    "bulba_df['V1'] = bulba_df.apply(lambda row: int(row['Pokemon'] in row['V1_preds']), axis = 1)\n",
    "bulba_df['V2'] = bulba_df.apply(lambda row: int(row['Pokemon'] in row['V2_preds']), axis = 1)\n",
    "bulba_df['V3'] = bulba_df.apply(lambda row: int(row['Pokemon'] in row['V3_preds']), axis = 1)\n",
    "bulba_df['V4'] = bulba_df.apply(lambda row: int(row['Pokemon'] in row['V4_preds']), axis = 1)"
   ]
  },
  {
   "attachments": {},
   "cell_type": "markdown",
   "metadata": {},
   "source": [
    "Now onto the annotations that I collected from real people"
   ]
  },
  {
   "cell_type": "code",
   "execution_count": 297,
   "metadata": {},
   "outputs": [],
   "source": [
    "annotations = pd.read_excel('Pokemon_annotations.xlsx').drop(columns = ['Unnamed: 0'])"
   ]
  },
  {
   "cell_type": "code",
   "execution_count": 301,
   "metadata": {},
   "outputs": [],
   "source": [
    "annotations.dropna(inplace = True)"
   ]
  },
  {
   "cell_type": "code",
   "execution_count": 303,
   "metadata": {},
   "outputs": [],
   "source": [
    "# baseline\n",
    "annotations['baseline_preds'] = [random.choices(poke_df.Pokemon.unique(), k = 3) for x in range(len(annotations))]\n",
    "# apr 5\n",
    "annotations['V1_preds'] = annotations.Annotation.apply(lambda x: predict_pokemon_(x, model = model1))\n",
    "# apr 6\n",
    "annotations['V2_preds'] = annotations.Annotation.apply(lambda x: predict_pokemon_(x, model = model2))\n",
    "# apr 17\n",
    "annotations['V3_preds'] = annotations.Annotation.apply(lambda x: predict_pokemon_(x, model = model3))\n",
    "# stopwords\n",
    "annotations['V4_preds'] = annotations.Annotation.apply(lambda x: predict_pokemon_(x, model = model4, filter_stopwords= True))"
   ]
  },
  {
   "cell_type": "code",
   "execution_count": 305,
   "metadata": {},
   "outputs": [],
   "source": [
    "annotations['baseline'] = annotations.apply(lambda row: int(row['Pokemon'] in row['baseline_preds']), axis = 1)\n",
    "annotations['V1'] = annotations.apply(lambda row: int(row['Pokemon'] in row['V1_preds']), axis = 1)\n",
    "annotations['V2'] = annotations.apply(lambda row: int(row['Pokemon'] in row['V2_preds']), axis = 1)\n",
    "annotations['V3'] = annotations.apply(lambda row: int(row['Pokemon'] in row['V3_preds']), axis = 1)\n",
    "annotations['V4'] = annotations.apply(lambda row: int(row['Pokemon'] in row['V4_preds']), axis = 1)"
   ]
  },
  {
   "cell_type": "code",
   "execution_count": 372,
   "metadata": {},
   "outputs": [],
   "source": [
    "annotations.to_csv('annotations.csv')"
   ]
  },
  {
   "cell_type": "code",
   "execution_count": 316,
   "metadata": {},
   "outputs": [],
   "source": [
    "bulba_plotter = bulba_df[['Pokemon','baseline','V1','V2','V3','V4']]\n",
    "annot_plotter = annotations[['Pokemon','baseline','V1','V2','V3','V4']]"
   ]
  },
  {
   "cell_type": "code",
   "execution_count": 313,
   "metadata": {},
   "outputs": [
    {
     "data": {
      "text/html": [
       "<div>\n",
       "<style scoped>\n",
       "    .dataframe tbody tr th:only-of-type {\n",
       "        vertical-align: middle;\n",
       "    }\n",
       "\n",
       "    .dataframe tbody tr th {\n",
       "        vertical-align: top;\n",
       "    }\n",
       "\n",
       "    .dataframe thead th {\n",
       "        text-align: right;\n",
       "    }\n",
       "</style>\n",
       "<table border=\"1\" class=\"dataframe\">\n",
       "  <thead>\n",
       "    <tr style=\"text-align: right;\">\n",
       "      <th></th>\n",
       "      <th>Pokemon</th>\n",
       "      <th>V1</th>\n",
       "      <th>V2</th>\n",
       "      <th>V3</th>\n",
       "      <th>V4</th>\n",
       "    </tr>\n",
       "  </thead>\n",
       "  <tbody>\n",
       "    <tr>\n",
       "      <th>0</th>\n",
       "      <td>Bulbasaur</td>\n",
       "      <td>1</td>\n",
       "      <td>1</td>\n",
       "      <td>1</td>\n",
       "      <td>1</td>\n",
       "    </tr>\n",
       "    <tr>\n",
       "      <th>1</th>\n",
       "      <td>Ivysaur</td>\n",
       "      <td>1</td>\n",
       "      <td>1</td>\n",
       "      <td>1</td>\n",
       "      <td>1</td>\n",
       "    </tr>\n",
       "    <tr>\n",
       "      <th>2</th>\n",
       "      <td>Venusaur</td>\n",
       "      <td>0</td>\n",
       "      <td>0</td>\n",
       "      <td>0</td>\n",
       "      <td>0</td>\n",
       "    </tr>\n",
       "    <tr>\n",
       "      <th>3</th>\n",
       "      <td>Charmander</td>\n",
       "      <td>1</td>\n",
       "      <td>1</td>\n",
       "      <td>1</td>\n",
       "      <td>1</td>\n",
       "    </tr>\n",
       "    <tr>\n",
       "      <th>4</th>\n",
       "      <td>Charmeleon</td>\n",
       "      <td>0</td>\n",
       "      <td>1</td>\n",
       "      <td>1</td>\n",
       "      <td>1</td>\n",
       "    </tr>\n",
       "    <tr>\n",
       "      <th>...</th>\n",
       "      <td>...</td>\n",
       "      <td>...</td>\n",
       "      <td>...</td>\n",
       "      <td>...</td>\n",
       "      <td>...</td>\n",
       "    </tr>\n",
       "    <tr>\n",
       "      <th>1003</th>\n",
       "      <td>Chi-Yu</td>\n",
       "      <td>0</td>\n",
       "      <td>0</td>\n",
       "      <td>0</td>\n",
       "      <td>1</td>\n",
       "    </tr>\n",
       "    <tr>\n",
       "      <th>1004</th>\n",
       "      <td>Roaring Moon</td>\n",
       "      <td>0</td>\n",
       "      <td>0</td>\n",
       "      <td>0</td>\n",
       "      <td>0</td>\n",
       "    </tr>\n",
       "    <tr>\n",
       "      <th>1005</th>\n",
       "      <td>Iron Valiant</td>\n",
       "      <td>0</td>\n",
       "      <td>0</td>\n",
       "      <td>0</td>\n",
       "      <td>0</td>\n",
       "    </tr>\n",
       "    <tr>\n",
       "      <th>1006</th>\n",
       "      <td>Koraidon</td>\n",
       "      <td>0</td>\n",
       "      <td>0</td>\n",
       "      <td>0</td>\n",
       "      <td>1</td>\n",
       "    </tr>\n",
       "    <tr>\n",
       "      <th>1007</th>\n",
       "      <td>Miraidon</td>\n",
       "      <td>0</td>\n",
       "      <td>0</td>\n",
       "      <td>0</td>\n",
       "      <td>1</td>\n",
       "    </tr>\n",
       "  </tbody>\n",
       "</table>\n",
       "<p>1008 rows × 5 columns</p>\n",
       "</div>"
      ],
      "text/plain": [
       "           Pokemon  V1  V2  V3  V4\n",
       "0        Bulbasaur   1   1   1   1\n",
       "1          Ivysaur   1   1   1   1\n",
       "2         Venusaur   0   0   0   0\n",
       "3       Charmander   1   1   1   1\n",
       "4       Charmeleon   0   1   1   1\n",
       "...            ...  ..  ..  ..  ..\n",
       "1003        Chi-Yu   0   0   0   1\n",
       "1004  Roaring Moon   0   0   0   0\n",
       "1005  Iron Valiant   0   0   0   0\n",
       "1006      Koraidon   0   0   0   1\n",
       "1007      Miraidon   0   0   0   1\n",
       "\n",
       "[1008 rows x 5 columns]"
      ]
     },
     "execution_count": 313,
     "metadata": {},
     "output_type": "execute_result"
    }
   ],
   "source": [
    "bulba_plotter"
   ]
  },
  {
   "attachments": {},
   "cell_type": "markdown",
   "metadata": {},
   "source": [
    "Now, for some plots on the raw accuracy."
   ]
  },
  {
   "cell_type": "code",
   "execution_count": 342,
   "metadata": {},
   "outputs": [
    {
     "data": {
      "image/png": "[encoded data removed]",
      "text/plain": [
       "<Figure size 640x480 with 1 Axes>"
      ]
     },
     "metadata": {},
     "output_type": "display_data"
    }
   ],
   "source": [
    "\n",
    "ax = sns.barplot(data = bulba_plotter, ci = None)\n",
    "for i in ax.containers:\n",
    "    ax.bar_label(i,fmt='%.3f', padding=3)\n",
    "plt.title('Pykédex Accuracy on Bulbapedia Wiki Entries')\n",
    "plt.xlabel('Model Version')\n",
    "plt.ylabel('Accuracy')\n",
    "plt.show()"
   ]
  },
  {
   "cell_type": "code",
   "execution_count": 343,
   "metadata": {},
   "outputs": [
    {
     "data": {
      "image/png": "[encoded data removed]",
      "text/plain": [
       "<Figure size 640x480 with 1 Axes>"
      ]
     },
     "metadata": {},
     "output_type": "display_data"
    }
   ],
   "source": [
    "\n",
    "ax = sns.barplot(data = annot_plotter, ci = None)\n",
    "for i in ax.containers:\n",
    "    ax.bar_label(i,fmt='%.3f', padding=3)\n",
    "plt.title('Pykédex Accuracy on Human Pokémon Annotations')\n",
    "plt.xlabel('Model Version')\n",
    "plt.ylabel('Accuracy')\n",
    "plt.show()"
   ]
  },
  {
   "attachments": {},
   "cell_type": "markdown",
   "metadata": {},
   "source": [
    "Finally, let's calculate some F1 scores!"
   ]
  },
  {
   "cell_type": "code",
   "execution_count": 369,
   "metadata": {},
   "outputs": [
    {
     "data": {
      "text/html": [
       "<div>\n",
       "<style scoped>\n",
       "    .dataframe tbody tr th:only-of-type {\n",
       "        vertical-align: middle;\n",
       "    }\n",
       "\n",
       "    .dataframe tbody tr th {\n",
       "        vertical-align: top;\n",
       "    }\n",
       "\n",
       "    .dataframe thead th {\n",
       "        text-align: right;\n",
       "    }\n",
       "</style>\n",
       "<table border=\"1\" class=\"dataframe\">\n",
       "  <thead>\n",
       "    <tr style=\"text-align: right;\">\n",
       "      <th></th>\n",
       "      <th>Model</th>\n",
       "      <th>Bulbapedia F1s</th>\n",
       "      <th>Annotation F1s</th>\n",
       "    </tr>\n",
       "  </thead>\n",
       "  <tbody>\n",
       "    <tr>\n",
       "      <th>0</th>\n",
       "      <td>Baseline</td>\n",
       "      <td>0.004</td>\n",
       "      <td>0.016</td>\n",
       "    </tr>\n",
       "    <tr>\n",
       "      <th>1</th>\n",
       "      <td>V1 - Just Pokédex Entries</td>\n",
       "      <td>0.236</td>\n",
       "      <td>0.193</td>\n",
       "    </tr>\n",
       "    <tr>\n",
       "      <th>2</th>\n",
       "      <td>V2 - Add Image Descriptions</td>\n",
       "      <td>0.306</td>\n",
       "      <td>0.270</td>\n",
       "    </tr>\n",
       "    <tr>\n",
       "      <th>3</th>\n",
       "      <td>V3 - Add Pokémon Wiki Data</td>\n",
       "      <td>0.514</td>\n",
       "      <td>0.245</td>\n",
       "    </tr>\n",
       "    <tr>\n",
       "      <th>4</th>\n",
       "      <td>V4 - Drop Stopwords</td>\n",
       "      <td>0.570</td>\n",
       "      <td>0.306</td>\n",
       "    </tr>\n",
       "  </tbody>\n",
       "</table>\n",
       "</div>"
      ],
      "text/plain": [
       "                         Model  Bulbapedia F1s  Annotation F1s\n",
       "0                     Baseline           0.004           0.016\n",
       "1    V1 - Just Pokédex Entries           0.236           0.193\n",
       "2  V2 - Add Image Descriptions           0.306           0.270\n",
       "3   V3 - Add Pokémon Wiki Data           0.514           0.245\n",
       "4          V4 - Drop Stopwords           0.570           0.306"
      ]
     },
     "execution_count": 369,
     "metadata": {},
     "output_type": "execute_result"
    }
   ],
   "source": [
    "f1_df = pd.DataFrame()\n",
    "bulbaf1s = []\n",
    "annotf1s = []\n",
    "for model in ['baseline','V1','V2','V3','V4']:\n",
    "    bulbaf1s.append(round(\n",
    "        f1_score(bulba_plotter[model],np.ones(len(bulba_plotter)))\n",
    "        ,3))\n",
    "    annotf1s.append(round(\n",
    "        f1_score(annot_plotter[model],np.ones(len(annot_plotter)))\n",
    "        ,3))\n",
    "f1_df['Model'] = ['Baseline','V1 - Just Pokédex Entries','V2 - Add Image Descriptions',\n",
    "                  'V3 - Add Pokémon Wiki Data','V4 - Drop Stopwords']\n",
    "f1_df['Bulbapedia F1s'] = bulbaf1s\n",
    "f1_df['Annotation F1s'] = annotf1s\n",
    "f1_df"
   ]
  },
  {
   "attachments": {},
   "cell_type": "markdown",
   "metadata": {},
   "source": [
    "And plot the F1 scores"
   ]
  },
  {
   "cell_type": "code",
   "execution_count": 370,
   "metadata": {},
   "outputs": [
    {
     "data": {
      "image/png": "[encoded data removed]",
      "text/plain": [
       "<Figure size 640x480 with 1 Axes>"
      ]
     },
     "metadata": {},
     "output_type": "display_data"
    }
   ],
   "source": [
    "\n",
    "ax = sns.barplot(x='Dataset',\n",
    "            y='value',\n",
    "            hue='Model'\n",
    "            , data=pd.melt(f1_df, id_vars = ['Model'], var_name = 'Dataset'))\n",
    "for i in ax.containers:\n",
    "    ax.bar_label(i,fmt='%.3f', padding=3)\n",
    "plt.title('Pykédex F1 Score on Validation Datasets')\n",
    "plt.xlabel('Dataset')\n",
    "plt.ylabel('F1 Score')\n",
    "plt.show()"
   ]
  },
  {
   "attachments": {},
   "cell_type": "markdown",
   "metadata": {},
   "source": [
    "Is there a difference in the prompt length for the model correctly vs incorrectly guessing the Pokémon?"
   ]
  },
  {
   "cell_type": "code",
   "execution_count": 5,
   "metadata": {},
   "outputs": [
    {
     "data": {
      "image/png": "[encoded data removed]",
      "text/plain": [
       "<Figure size 640x480 with 1 Axes>"
      ]
     },
     "metadata": {},
     "output_type": "display_data"
    }
   ],
   "source": [
    "import seaborn as sns\n",
    "import matplotlib.pyplot as plt\n",
    "annots = pd.read_csv('annotations.csv').drop(columns = ['Unnamed: 0'])\n",
    "annots['arglength'] = annots.Annotation.apply(lambda x: len(x))\n",
    "sns.boxplot(data = annots, x = 'V4', y = 'arglength')\n",
    "plt.title(\"Side-by-side boxplot of text Length for the Stopwords Model's Peformance\")\n",
    "plt.ylabel('Text Length')\n",
    "plt.xlabel(\"Model Correctness\")\n",
    "plt.show()\n"
   ]
  },
  {
   "cell_type": "code",
   "execution_count": null,
   "metadata": {},
   "outputs": [],
   "source": []
  }
 ],
 "metadata": {
  "kernelspec": {
   "display_name": "base",
   "language": "python",
   "name": "python3"
  },
  "language_info": {
   "codemirror_mode": {
    "name": "ipython",
    "version": 3
   },
   "file_extension": ".py",
   "mimetype": "text/x-python",
   "name": "python",
   "nbconvert_exporter": "python",
   "pygments_lexer": "ipython3",
   "version": "3.10.9"
  },
  "orig_nbformat": 4,
  "vscode": {
   "interpreter": {
    "hash": "909dd5933edbcbe4b3beeac3480652aae134615a7c9daf572d8692052151500c"
   }
  }
 },
 "nbformat": 4,
 "nbformat_minor": 2
}
