{
 "cells": [
  {
   "cell_type": "code",
   "execution_count": 1,
   "id": "c732e2c9",
   "metadata": {
    "scrolled": true
   },
   "outputs": [],
   "source": [
    "import pandas as pd\n",
    "import numpy as np\n",
    "import math\n",
    "import seaborn as sns\n",
    "import matplotlib.pyplot as plt\n",
    "from tqdm import tqdm\n",
    "# from sklearn.model_selection import train_test_split\n",
    "from transformers import BertTokenizer\n",
    "from transformers import AutoModel\n",
    "from datasets import ClassLabel\n",
    "import torch\n",
    "from torch.utils.data import TensorDataset, DataLoader, RandomSampler, SequentialSampler\n",
    "from transformers import BertForSequenceClassification\n",
    "from torch.optim import AdamW\n",
    "from transformers import get_linear_schedule_with_warmup\n",
    "from torch.nn.utils import clip_grad_norm_\n",
    "from nltk.corpus import stopwords\n",
    "import nltk"
   ]
  },
  {
   "cell_type": "code",
   "execution_count": 2,
   "id": "43a23a89",
   "metadata": {},
   "outputs": [],
   "source": [
    "stop_words = stopwords.words('english')"
   ]
  },
  {
   "cell_type": "markdown",
   "id": "bafc9ac4",
   "metadata": {},
   "source": [
    "Read in data..."
   ]
  },
  {
   "cell_type": "code",
   "execution_count": 3,
   "id": "4c90cbe1",
   "metadata": {
    "scrolled": true
   },
   "outputs": [
    {
     "name": "stderr",
     "output_type": "stream",
     "text": [
      "/sw/pkgs/arc/python3.9-anaconda/2021.11/lib/python3.9/site-packages/IPython/core/interactiveshell.py:3444: DtypeWarning: Columns (2) have mixed types.Specify dtype option on import or set low_memory=False.\n",
      "  exec(code_obj, self.user_global_ns, self.user_ns)\n"
     ]
    }
   ],
   "source": [
    "df = pd.read_csv('big_df.csv').drop(columns = ['Unnamed: 0'])"
   ]
  },
  {
   "cell_type": "code",
   "execution_count": 4,
   "id": "dfe5ea48",
   "metadata": {},
   "outputs": [],
   "source": [
    "df_images = pd.read_csv('big_df_image_descriptions.csv').drop(columns = ['Unnamed: 0'])"
   ]
  },
  {
   "cell_type": "code",
   "execution_count": 5,
   "id": "e0a8e2da",
   "metadata": {},
   "outputs": [
    {
     "name": "stdout",
     "output_type": "stream",
     "text": [
      "{'NidoranΓÖÇ', 'NidoranΓÖé', 'Flabe╠übe╠ü'}\n",
      "set()\n"
     ]
    }
   ],
   "source": [
    "print(set(df_images.Pokemon).difference(set(df.Pokemon)))\n",
    "df_images = df_images.replace({'Flabe╠übe╠ü': 'Flabébé',\n",
    "                   'NidoranΓÖÇ': 'Nidoran♀',\n",
    "                   'NidoranΓÖé':'Nidoran♂' })\n",
    "print(set(df_images.Pokemon).difference(set(df.Pokemon)))"
   ]
  },
  {
   "cell_type": "markdown",
   "id": "3d1d6dd4",
   "metadata": {},
   "source": [
    "Before concatting, trim the image descriptions for phrases resembling 'a cartoon character...'"
   ]
  },
  {
   "cell_type": "code",
   "execution_count": 6,
   "id": "2bc88fc7",
   "metadata": {},
   "outputs": [],
   "source": [
    "def clean_phrase(text):\n",
    "    for phrase in [\n",
    "    'a cartoon character',\n",
    "    'character',\n",
    "    'cartoon',\n",
    "    'paper cut out',\n",
    "    'stylized image',\n",
    "    'image',\n",
    "    'cute',\n",
    "    'very cute',\n",
    "    'drawing',\n",
    "    'animated',\n",
    "    'sketch',\n",
    "    'toon',\n",
    "    'object',\n",
    "    'information technology',\n",
    "    'pikachu',\n",
    "    'picture']:\n",
    "        if phrase in text:\n",
    "            text = text.replace(phrase,\"\")\n",
    "    return text\n",
    "\n",
    "df_images.value = df_images.value.apply(lambda x: clean_phrase(x))"
   ]
  },
  {
   "cell_type": "code",
   "execution_count": 7,
   "id": "2de60605",
   "metadata": {},
   "outputs": [],
   "source": [
    "phys = pd.read_csv('big_df_physiology.csv').drop(columns = ['Unnamed: 0'])\n",
    "behavior = pd.read_csv('big_df_behavior.csv').drop(columns = ['Unnamed: 0'])\n",
    "\n",
    "phys = phys.replace('Ho-Oh', 'Ho-oh')\n",
    "behavior = behavior.replace('Ho-Oh', 'Ho-oh')"
   ]
  },
  {
   "cell_type": "code",
   "execution_count": 8,
   "id": "6d5bc33a",
   "metadata": {},
   "outputs": [
    {
     "data": {
      "text/html": [
       "<div>\n",
       "<style scoped>\n",
       "    .dataframe tbody tr th:only-of-type {\n",
       "        vertical-align: middle;\n",
       "    }\n",
       "\n",
       "    .dataframe tbody tr th {\n",
       "        vertical-align: top;\n",
       "    }\n",
       "\n",
       "    .dataframe thead th {\n",
       "        text-align: right;\n",
       "    }\n",
       "</style>\n",
       "<table border=\"1\" class=\"dataframe\">\n",
       "  <thead>\n",
       "    <tr style=\"text-align: right;\">\n",
       "      <th></th>\n",
       "      <th>Pokemon</th>\n",
       "      <th>variable</th>\n",
       "      <th>value</th>\n",
       "    </tr>\n",
       "  </thead>\n",
       "  <tbody>\n",
       "    <tr>\n",
       "      <th>0</th>\n",
       "      <td>Bulbasaur</td>\n",
       "      <td>physiology</td>\n",
       "      <td>Bulbasaur resembles a small amphibian/frog, bu...</td>\n",
       "    </tr>\n",
       "    <tr>\n",
       "      <th>1</th>\n",
       "      <td>Bulbasaur</td>\n",
       "      <td>physiology</td>\n",
       "      <td>It also has large, red eyes and small, sharp ...</td>\n",
       "    </tr>\n",
       "    <tr>\n",
       "      <th>2</th>\n",
       "      <td>Bulbasaur</td>\n",
       "      <td>physiology</td>\n",
       "      <td>Its skin is a light, turquoise color with dar...</td>\n",
       "    </tr>\n",
       "    <tr>\n",
       "      <th>3</th>\n",
       "      <td>Bulbasaur</td>\n",
       "      <td>physiology</td>\n",
       "      <td>It has three claws on all four of its legs</td>\n",
       "    </tr>\n",
       "    <tr>\n",
       "      <th>4</th>\n",
       "      <td>Bulbasaur</td>\n",
       "      <td>physiology</td>\n",
       "      <td>Its most notable feature, however, is the afo...</td>\n",
       "    </tr>\n",
       "    <tr>\n",
       "      <th>...</th>\n",
       "      <td>...</td>\n",
       "      <td>...</td>\n",
       "      <td>...</td>\n",
       "    </tr>\n",
       "    <tr>\n",
       "      <th>58713</th>\n",
       "      <td>Miraidon</td>\n",
       "      <td>9</td>\n",
       "      <td>The eyes experience a pixelated display; they ...</td>\n",
       "    </tr>\n",
       "    <tr>\n",
       "      <th>58714</th>\n",
       "      <td>Miraidon</td>\n",
       "      <td>9</td>\n",
       "      <td>Inside Miraidon ' s body is what appears to be...</td>\n",
       "    </tr>\n",
       "    <tr>\n",
       "      <th>58715</th>\n",
       "      <td>Miraidon</td>\n",
       "      <td>9</td>\n",
       "      <td>This energy be mostly concentrated on its thro...</td>\n",
       "    </tr>\n",
       "    <tr>\n",
       "      <th>58716</th>\n",
       "      <td>Miraidon</td>\n",
       "      <td>9</td>\n",
       "      <td>The energy have a blue glow around the edges f...</td>\n",
       "    </tr>\n",
       "    <tr>\n",
       "      <th>58717</th>\n",
       "      <td>Miraidon</td>\n",
       "      <td>9</td>\n",
       "      <td>It cost affirm that Miraidon is the futuristic...</td>\n",
       "    </tr>\n",
       "  </tbody>\n",
       "</table>\n",
       "<p>58718 rows × 3 columns</p>\n",
       "</div>"
      ],
      "text/plain": [
       "         Pokemon    variable  \\\n",
       "0      Bulbasaur  physiology   \n",
       "1      Bulbasaur  physiology   \n",
       "2      Bulbasaur  physiology   \n",
       "3      Bulbasaur  physiology   \n",
       "4      Bulbasaur  physiology   \n",
       "...          ...         ...   \n",
       "58713   Miraidon           9   \n",
       "58714   Miraidon           9   \n",
       "58715   Miraidon           9   \n",
       "58716   Miraidon           9   \n",
       "58717   Miraidon           9   \n",
       "\n",
       "                                                   value  \n",
       "0      Bulbasaur resembles a small amphibian/frog, bu...  \n",
       "1       It also has large, red eyes and small, sharp ...  \n",
       "2       Its skin is a light, turquoise color with dar...  \n",
       "3             It has three claws on all four of its legs  \n",
       "4       Its most notable feature, however, is the afo...  \n",
       "...                                                  ...  \n",
       "58713  The eyes experience a pixelated display; they ...  \n",
       "58714  Inside Miraidon ' s body is what appears to be...  \n",
       "58715  This energy be mostly concentrated on its thro...  \n",
       "58716  The energy have a blue glow around the edges f...  \n",
       "58717  It cost affirm that Miraidon is the futuristic...  \n",
       "\n",
       "[58718 rows x 3 columns]"
      ]
     },
     "execution_count": 8,
     "metadata": {},
     "output_type": "execute_result"
    }
   ],
   "source": [
    "phys"
   ]
  },
  {
   "cell_type": "code",
   "execution_count": 9,
   "id": "3d94d2a4",
   "metadata": {
    "scrolled": true
   },
   "outputs": [],
   "source": [
    "df = pd.concat([df, df_images,phys,behavior])"
   ]
  },
  {
   "cell_type": "code",
   "execution_count": 10,
   "id": "756ac78f",
   "metadata": {},
   "outputs": [
    {
     "data": {
      "text/html": [
       "<div>\n",
       "<style scoped>\n",
       "    .dataframe tbody tr th:only-of-type {\n",
       "        vertical-align: middle;\n",
       "    }\n",
       "\n",
       "    .dataframe tbody tr th {\n",
       "        vertical-align: top;\n",
       "    }\n",
       "\n",
       "    .dataframe thead th {\n",
       "        text-align: right;\n",
       "    }\n",
       "</style>\n",
       "<table border=\"1\" class=\"dataframe\">\n",
       "  <thead>\n",
       "    <tr style=\"text-align: right;\">\n",
       "      <th></th>\n",
       "      <th>Pokemon</th>\n",
       "      <th>variable</th>\n",
       "      <th>value</th>\n",
       "    </tr>\n",
       "  </thead>\n",
       "  <tbody>\n",
       "    <tr>\n",
       "      <th>0</th>\n",
       "      <td>Bulbasaur</td>\n",
       "      <td>Description</td>\n",
       "      <td>A strange seed was planted on its back at birt...</td>\n",
       "    </tr>\n",
       "    <tr>\n",
       "      <th>1</th>\n",
       "      <td>Bulbasaur</td>\n",
       "      <td>Description</td>\n",
       "      <td>It can go for days without eating a single mor...</td>\n",
       "    </tr>\n",
       "    <tr>\n",
       "      <th>2</th>\n",
       "      <td>Bulbasaur</td>\n",
       "      <td>Description</td>\n",
       "      <td>The seed on its back is filled with nutrients....</td>\n",
       "    </tr>\n",
       "    <tr>\n",
       "      <th>3</th>\n",
       "      <td>Bulbasaur</td>\n",
       "      <td>Description</td>\n",
       "      <td>It carries a seed on its back right from birth...</td>\n",
       "    </tr>\n",
       "    <tr>\n",
       "      <th>4</th>\n",
       "      <td>Bulbasaur</td>\n",
       "      <td>Description</td>\n",
       "      <td>While it is young, it uses the nutrients that ...</td>\n",
       "    </tr>\n",
       "    <tr>\n",
       "      <th>...</th>\n",
       "      <td>...</td>\n",
       "      <td>...</td>\n",
       "      <td>...</td>\n",
       "    </tr>\n",
       "    <tr>\n",
       "      <th>64213</th>\n",
       "      <td>Gimmighoul Chest Form</td>\n",
       "      <td>9</td>\n",
       "      <td>Best seen when using its key signature move, G...</td>\n",
       "    </tr>\n",
       "    <tr>\n",
       "      <th>64214</th>\n",
       "      <td>Gimmighoul Chest Form</td>\n",
       "      <td>9</td>\n",
       "      <td>It then finishes off its adversary with a indi...</td>\n",
       "    </tr>\n",
       "    <tr>\n",
       "      <th>64215</th>\n",
       "      <td>Gholdengo</td>\n",
       "      <td>9</td>\n",
       "      <td>Gholdengo have a friendly disposition and can ...</td>\n",
       "    </tr>\n",
       "    <tr>\n",
       "      <th>64216</th>\n",
       "      <td>Chien-Pao</td>\n",
       "      <td>9</td>\n",
       "      <td>Chien - Pao be described as be able to control...</td>\n",
       "    </tr>\n",
       "    <tr>\n",
       "      <th>64217</th>\n",
       "      <td>Chien-Pao</td>\n",
       "      <td>9</td>\n",
       "      <td>It be make out as the Sword of Ruin</td>\n",
       "    </tr>\n",
       "  </tbody>\n",
       "</table>\n",
       "<p>272580 rows × 3 columns</p>\n",
       "</div>"
      ],
      "text/plain": [
       "                     Pokemon     variable  \\\n",
       "0                  Bulbasaur  Description   \n",
       "1                  Bulbasaur  Description   \n",
       "2                  Bulbasaur  Description   \n",
       "3                  Bulbasaur  Description   \n",
       "4                  Bulbasaur  Description   \n",
       "...                      ...          ...   \n",
       "64213  Gimmighoul Chest Form            9   \n",
       "64214  Gimmighoul Chest Form            9   \n",
       "64215              Gholdengo            9   \n",
       "64216              Chien-Pao            9   \n",
       "64217              Chien-Pao            9   \n",
       "\n",
       "                                                   value  \n",
       "0      A strange seed was planted on its back at birt...  \n",
       "1      It can go for days without eating a single mor...  \n",
       "2      The seed on its back is filled with nutrients....  \n",
       "3      It carries a seed on its back right from birth...  \n",
       "4      While it is young, it uses the nutrients that ...  \n",
       "...                                                  ...  \n",
       "64213  Best seen when using its key signature move, G...  \n",
       "64214  It then finishes off its adversary with a indi...  \n",
       "64215  Gholdengo have a friendly disposition and can ...  \n",
       "64216  Chien - Pao be described as be able to control...  \n",
       "64217                It be make out as the Sword of Ruin  \n",
       "\n",
       "[272580 rows x 3 columns]"
      ]
     },
     "execution_count": 10,
     "metadata": {},
     "output_type": "execute_result"
    }
   ],
   "source": [
    "df"
   ]
  },
  {
   "cell_type": "markdown",
   "id": "4a54b9e1",
   "metadata": {},
   "source": [
    "Stopwords version..."
   ]
  },
  {
   "cell_type": "code",
   "execution_count": 11,
   "id": "cb0b517d",
   "metadata": {},
   "outputs": [
    {
     "data": {
      "text/html": [
       "<div>\n",
       "<style scoped>\n",
       "    .dataframe tbody tr th:only-of-type {\n",
       "        vertical-align: middle;\n",
       "    }\n",
       "\n",
       "    .dataframe tbody tr th {\n",
       "        vertical-align: top;\n",
       "    }\n",
       "\n",
       "    .dataframe thead th {\n",
       "        text-align: right;\n",
       "    }\n",
       "</style>\n",
       "<table border=\"1\" class=\"dataframe\">\n",
       "  <thead>\n",
       "    <tr style=\"text-align: right;\">\n",
       "      <th></th>\n",
       "      <th>Pokemon</th>\n",
       "      <th>variable</th>\n",
       "      <th>value</th>\n",
       "    </tr>\n",
       "  </thead>\n",
       "  <tbody>\n",
       "    <tr>\n",
       "      <th>0</th>\n",
       "      <td>Bulbasaur</td>\n",
       "      <td>Description</td>\n",
       "      <td>A strange seed planted back birth. The plant s...</td>\n",
       "    </tr>\n",
       "    <tr>\n",
       "      <th>1</th>\n",
       "      <td>Bulbasaur</td>\n",
       "      <td>Description</td>\n",
       "      <td>It go days without eating single morsel. In bu...</td>\n",
       "    </tr>\n",
       "    <tr>\n",
       "      <th>2</th>\n",
       "      <td>Bulbasaur</td>\n",
       "      <td>Description</td>\n",
       "      <td>The seed back filled nutrients. The seed grows...</td>\n",
       "    </tr>\n",
       "    <tr>\n",
       "      <th>3</th>\n",
       "      <td>Bulbasaur</td>\n",
       "      <td>Description</td>\n",
       "      <td>It carries seed back right birth. As grows old...</td>\n",
       "    </tr>\n",
       "    <tr>\n",
       "      <th>4</th>\n",
       "      <td>Bulbasaur</td>\n",
       "      <td>Description</td>\n",
       "      <td>While young, uses nutrients stored seeds back ...</td>\n",
       "    </tr>\n",
       "    <tr>\n",
       "      <th>...</th>\n",
       "      <td>...</td>\n",
       "      <td>...</td>\n",
       "      <td>...</td>\n",
       "    </tr>\n",
       "    <tr>\n",
       "      <th>64213</th>\n",
       "      <td>Gimmighoul Chest Form</td>\n",
       "      <td>9</td>\n",
       "      <td>Best seen using key signature move, Glaive Rus...</td>\n",
       "    </tr>\n",
       "    <tr>\n",
       "      <th>64214</th>\n",
       "      <td>Gimmighoul Chest Form</td>\n",
       "      <td>9</td>\n",
       "      <td>It finishes adversary individual strike large ...</td>\n",
       "    </tr>\n",
       "    <tr>\n",
       "      <th>64215</th>\n",
       "      <td>Gholdengo</td>\n",
       "      <td>9</td>\n",
       "      <td>Gholdengo friendly disposition befriend anyone...</td>\n",
       "    </tr>\n",
       "    <tr>\n",
       "      <th>64216</th>\n",
       "      <td>Chien-Pao</td>\n",
       "      <td>9</td>\n",
       "      <td>Chien - Pao described able control 100 tons fa...</td>\n",
       "    </tr>\n",
       "    <tr>\n",
       "      <th>64217</th>\n",
       "      <td>Chien-Pao</td>\n",
       "      <td>9</td>\n",
       "      <td>It make Sword Ruin</td>\n",
       "    </tr>\n",
       "  </tbody>\n",
       "</table>\n",
       "<p>272580 rows × 3 columns</p>\n",
       "</div>"
      ],
      "text/plain": [
       "                     Pokemon     variable  \\\n",
       "0                  Bulbasaur  Description   \n",
       "1                  Bulbasaur  Description   \n",
       "2                  Bulbasaur  Description   \n",
       "3                  Bulbasaur  Description   \n",
       "4                  Bulbasaur  Description   \n",
       "...                      ...          ...   \n",
       "64213  Gimmighoul Chest Form            9   \n",
       "64214  Gimmighoul Chest Form            9   \n",
       "64215              Gholdengo            9   \n",
       "64216              Chien-Pao            9   \n",
       "64217              Chien-Pao            9   \n",
       "\n",
       "                                                   value  \n",
       "0      A strange seed planted back birth. The plant s...  \n",
       "1      It go days without eating single morsel. In bu...  \n",
       "2      The seed back filled nutrients. The seed grows...  \n",
       "3      It carries seed back right birth. As grows old...  \n",
       "4      While young, uses nutrients stored seeds back ...  \n",
       "...                                                  ...  \n",
       "64213  Best seen using key signature move, Glaive Rus...  \n",
       "64214  It finishes adversary individual strike large ...  \n",
       "64215  Gholdengo friendly disposition befriend anyone...  \n",
       "64216  Chien - Pao described able control 100 tons fa...  \n",
       "64217                                 It make Sword Ruin  \n",
       "\n",
       "[272580 rows x 3 columns]"
      ]
     },
     "execution_count": 11,
     "metadata": {},
     "output_type": "execute_result"
    }
   ],
   "source": [
    "df.value = df.value.apply(lambda x: ' '.join([word for word in x.split() if word not in (stop_words)]))\n",
    "df"
   ]
  },
  {
   "cell_type": "code",
   "execution_count": 12,
   "id": "dccd573c",
   "metadata": {},
   "outputs": [],
   "source": [
    "class_converter = ClassLabel(num_classes = 1008, names = list(df.Pokemon.unique()))\n",
    "\n",
    "df['pokelabel'] = [class_converter.str2int(label) for label in df.Pokemon]"
   ]
  },
  {
   "cell_type": "code",
   "execution_count": 13,
   "id": "da777f28",
   "metadata": {
    "scrolled": false
   },
   "outputs": [
    {
     "data": {
      "text/html": [
       "<div>\n",
       "<style scoped>\n",
       "    .dataframe tbody tr th:only-of-type {\n",
       "        vertical-align: middle;\n",
       "    }\n",
       "\n",
       "    .dataframe tbody tr th {\n",
       "        vertical-align: top;\n",
       "    }\n",
       "\n",
       "    .dataframe thead th {\n",
       "        text-align: right;\n",
       "    }\n",
       "</style>\n",
       "<table border=\"1\" class=\"dataframe\">\n",
       "  <thead>\n",
       "    <tr style=\"text-align: right;\">\n",
       "      <th></th>\n",
       "      <th>Pokemon</th>\n",
       "      <th>variable</th>\n",
       "      <th>value</th>\n",
       "      <th>pokelabel</th>\n",
       "    </tr>\n",
       "  </thead>\n",
       "  <tbody>\n",
       "    <tr>\n",
       "      <th>0</th>\n",
       "      <td>Bulbasaur</td>\n",
       "      <td>Description</td>\n",
       "      <td>A strange seed planted back birth. The plant s...</td>\n",
       "      <td>0</td>\n",
       "    </tr>\n",
       "    <tr>\n",
       "      <th>1</th>\n",
       "      <td>Bulbasaur</td>\n",
       "      <td>Description</td>\n",
       "      <td>It go days without eating single morsel. In bu...</td>\n",
       "      <td>0</td>\n",
       "    </tr>\n",
       "    <tr>\n",
       "      <th>2</th>\n",
       "      <td>Bulbasaur</td>\n",
       "      <td>Description</td>\n",
       "      <td>The seed back filled nutrients. The seed grows...</td>\n",
       "      <td>0</td>\n",
       "    </tr>\n",
       "    <tr>\n",
       "      <th>3</th>\n",
       "      <td>Bulbasaur</td>\n",
       "      <td>Description</td>\n",
       "      <td>It carries seed back right birth. As grows old...</td>\n",
       "      <td>0</td>\n",
       "    </tr>\n",
       "    <tr>\n",
       "      <th>4</th>\n",
       "      <td>Bulbasaur</td>\n",
       "      <td>Description</td>\n",
       "      <td>While young, uses nutrients stored seeds back ...</td>\n",
       "      <td>0</td>\n",
       "    </tr>\n",
       "    <tr>\n",
       "      <th>...</th>\n",
       "      <td>...</td>\n",
       "      <td>...</td>\n",
       "      <td>...</td>\n",
       "      <td>...</td>\n",
       "    </tr>\n",
       "    <tr>\n",
       "      <th>64213</th>\n",
       "      <td>Gimmighoul Chest Form</td>\n",
       "      <td>9</td>\n",
       "      <td>Best seen using key signature move, Glaive Rus...</td>\n",
       "      <td>998</td>\n",
       "    </tr>\n",
       "    <tr>\n",
       "      <th>64214</th>\n",
       "      <td>Gimmighoul Chest Form</td>\n",
       "      <td>9</td>\n",
       "      <td>It finishes adversary individual strike large ...</td>\n",
       "      <td>998</td>\n",
       "    </tr>\n",
       "    <tr>\n",
       "      <th>64215</th>\n",
       "      <td>Gholdengo</td>\n",
       "      <td>9</td>\n",
       "      <td>Gholdengo friendly disposition befriend anyone...</td>\n",
       "      <td>999</td>\n",
       "    </tr>\n",
       "    <tr>\n",
       "      <th>64216</th>\n",
       "      <td>Chien-Pao</td>\n",
       "      <td>9</td>\n",
       "      <td>Chien - Pao described able control 100 tons fa...</td>\n",
       "      <td>1001</td>\n",
       "    </tr>\n",
       "    <tr>\n",
       "      <th>64217</th>\n",
       "      <td>Chien-Pao</td>\n",
       "      <td>9</td>\n",
       "      <td>It make Sword Ruin</td>\n",
       "      <td>1001</td>\n",
       "    </tr>\n",
       "  </tbody>\n",
       "</table>\n",
       "<p>272580 rows × 4 columns</p>\n",
       "</div>"
      ],
      "text/plain": [
       "                     Pokemon     variable  \\\n",
       "0                  Bulbasaur  Description   \n",
       "1                  Bulbasaur  Description   \n",
       "2                  Bulbasaur  Description   \n",
       "3                  Bulbasaur  Description   \n",
       "4                  Bulbasaur  Description   \n",
       "...                      ...          ...   \n",
       "64213  Gimmighoul Chest Form            9   \n",
       "64214  Gimmighoul Chest Form            9   \n",
       "64215              Gholdengo            9   \n",
       "64216              Chien-Pao            9   \n",
       "64217              Chien-Pao            9   \n",
       "\n",
       "                                                   value  pokelabel  \n",
       "0      A strange seed planted back birth. The plant s...          0  \n",
       "1      It go days without eating single morsel. In bu...          0  \n",
       "2      The seed back filled nutrients. The seed grows...          0  \n",
       "3      It carries seed back right birth. As grows old...          0  \n",
       "4      While young, uses nutrients stored seeds back ...          0  \n",
       "...                                                  ...        ...  \n",
       "64213  Best seen using key signature move, Glaive Rus...        998  \n",
       "64214  It finishes adversary individual strike large ...        998  \n",
       "64215  Gholdengo friendly disposition befriend anyone...        999  \n",
       "64216  Chien - Pao described able control 100 tons fa...       1001  \n",
       "64217                                 It make Sword Ruin       1001  \n",
       "\n",
       "[272580 rows x 4 columns]"
      ]
     },
     "execution_count": 13,
     "metadata": {},
     "output_type": "execute_result"
    }
   ],
   "source": [
    "df"
   ]
  },
  {
   "cell_type": "code",
   "execution_count": null,
   "id": "10333590",
   "metadata": {},
   "outputs": [],
   "source": []
  },
  {
   "cell_type": "code",
   "execution_count": 14,
   "id": "2973007b",
   "metadata": {},
   "outputs": [],
   "source": [
    "# X = df['value']\n",
    "# y = df['Pokemon']\n",
    "train = df.sample(frac = 0.8, random_state = 323)\n",
    "test = df.drop(train.index).reset_index(drop = True)"
   ]
  },
  {
   "cell_type": "code",
   "execution_count": 15,
   "id": "ba087cb5",
   "metadata": {
    "scrolled": false
   },
   "outputs": [
    {
     "data": {
      "text/plain": [
       "BertTokenizer(name_or_path='bert-base-uncased', vocab_size=30522, model_max_length=512, is_fast=False, padding_side='right', truncation_side='right', special_tokens={'unk_token': '[UNK]', 'sep_token': '[SEP]', 'pad_token': '[PAD]', 'cls_token': '[CLS]', 'mask_token': '[MASK]'})"
      ]
     },
     "execution_count": 15,
     "metadata": {},
     "output_type": "execute_result"
    }
   ],
   "source": [
    "pretrained_model = \"bert-base-uncased\"\n",
    "tokenizer = BertTokenizer.from_pretrained(\n",
    "    pretrained_model)\n",
    "tokenizer"
   ]
  },
  {
   "cell_type": "code",
   "execution_count": 17,
   "id": "193fbcb8",
   "metadata": {},
   "outputs": [],
   "source": [
    "def encode(docs):\n",
    "    '''\n",
    "    This function takes list of texts and returns input_ids and attention_mask of texts\n",
    "    '''\n",
    "    encoded_dict = tokenizer.batch_encode_plus(docs, add_special_tokens=True, max_length=128, padding='max_length',\n",
    "                            return_attention_mask=True, truncation=True, return_tensors='pt')\n",
    "    input_ids = encoded_dict['input_ids']\n",
    "    attention_masks = encoded_dict['attention_mask']\n",
    "    return input_ids, attention_masks\n",
    "\n",
    "\n",
    "\n",
    "train_input_ids, train_att_masks = encode(train.value.tolist())\n",
    "# valid_input_ids, valid_att_masks = encode(valid_df['text'].values.tolist())\n",
    "test_input_ids, test_att_masks = encode(test.value.tolist())\n"
   ]
  },
  {
   "cell_type": "code",
   "execution_count": 18,
   "id": "0c09307e",
   "metadata": {},
   "outputs": [],
   "source": [
    "train_y = torch.LongTensor(train['pokelabel'].values.tolist())\n",
    "test_y = torch.LongTensor(test['pokelabel'].values.tolist())"
   ]
  },
  {
   "cell_type": "code",
   "execution_count": 19,
   "id": "d7c7f86a",
   "metadata": {},
   "outputs": [],
   "source": [
    "train_dataset = TensorDataset(train_input_ids, train_att_masks, train_y)\n",
    "train_sampler = RandomSampler(train_dataset)\n",
    "train_dataloader = DataLoader(train_dataset,\n",
    "                              sampler=train_sampler,\n",
    "                              batch_size= 16)\n",
    "\n",
    "\n",
    "test_dataset = TensorDataset(test_input_ids, test_att_masks, test_y)\n",
    "test_sampler = RandomSampler(test_dataset)\n",
    "test_dataloader = DataLoader(test_dataset,\n",
    "                              sampler=test_sampler,\n",
    "                              batch_size= 16)\n"
   ]
  },
  {
   "cell_type": "code",
   "execution_count": 20,
   "id": "9f0fee50",
   "metadata": {},
   "outputs": [
    {
     "name": "stderr",
     "output_type": "stream",
     "text": [
      "Some weights of the model checkpoint at bert-base-uncased were not used when initializing BertForSequenceClassification: ['cls.predictions.transform.dense.weight', 'cls.seq_relationship.weight', 'cls.predictions.transform.LayerNorm.bias', 'cls.predictions.bias', 'cls.seq_relationship.bias', 'cls.predictions.decoder.weight', 'cls.predictions.transform.LayerNorm.weight', 'cls.predictions.transform.dense.bias']\n",
      "- This IS expected if you are initializing BertForSequenceClassification from the checkpoint of a model trained on another task or with another architecture (e.g. initializing a BertForSequenceClassification model from a BertForPreTraining model).\n",
      "- This IS NOT expected if you are initializing BertForSequenceClassification from the checkpoint of a model that you expect to be exactly identical (initializing a BertForSequenceClassification model from a BertForSequenceClassification model).\n",
      "Some weights of BertForSequenceClassification were not initialized from the model checkpoint at bert-base-uncased and are newly initialized: ['classifier.weight', 'classifier.bias']\n",
      "You should probably TRAIN this model on a down-stream task to be able to use it for predictions and inference.\n"
     ]
    }
   ],
   "source": [
    "model = BertForSequenceClassification.from_pretrained(\n",
    "    pretrained_model,\n",
    "    num_labels = len(train.pokelabel.unique()),\n",
    "    output_attentions = False,\n",
    "    output_hidden_states = False\n",
    "    )"
   ]
  },
  {
   "cell_type": "code",
   "execution_count": 21,
   "id": "87d7071a",
   "metadata": {},
   "outputs": [
    {
     "name": "stdout",
     "output_type": "stream",
     "text": [
      "cuda\n"
     ]
    }
   ],
   "source": [
    "device = torch.device('cuda' if torch.cuda.is_available() else \"cpu\")\n",
    "print(device)\n",
    "model = model.cuda()"
   ]
  },
  {
   "cell_type": "code",
   "execution_count": null,
   "id": "34f45ece",
   "metadata": {},
   "outputs": [],
   "source": [
    "epochs = 30\n",
    "\n",
    "optimizer = AdamW(model.parameters(), lr = 2e-6)\n",
    "scheduler = get_linear_schedule_with_warmup(\n",
    "    optimizer,\n",
    "    num_warmup_steps = 0,\n",
    "    num_training_steps = len(train_dataloader) * epochs\n",
    ")"
   ]
  },
  {
   "cell_type": "code",
   "execution_count": 20,
   "id": "b0944f5f",
   "metadata": {},
   "outputs": [
    {
     "name": "stdout",
     "output_type": "stream",
     "text": [
      "Epoch:  1\n"
     ]
    },
    {
     "name": "stderr",
     "output_type": "stream",
     "text": [
      "Training: 100%|██████████| 6928/6928 [14:04<00:00,  8.20it/s]\n",
      "Test: 100%|██████████| 1732/1732 [01:03<00:00, 27.22it/s]\n"
     ]
    },
    {
     "name": "stdout",
     "output_type": "stream",
     "text": [
      "train loss: 6.473003762492406 \n",
      "testing loss: 6.125884360859631 \n",
      "Epoch:  2\n"
     ]
    },
    {
     "name": "stderr",
     "output_type": "stream",
     "text": [
      "Training: 100%|██████████| 6928/6928 [14:06<00:00,  8.18it/s]\n",
      "Test: 100%|██████████| 1732/1732 [01:03<00:00, 27.28it/s]\n"
     ]
    },
    {
     "name": "stdout",
     "output_type": "stream",
     "text": [
      "train loss: 5.909981066718112 \n",
      "testing loss: 5.558661881275045 \n",
      "Epoch:  3\n"
     ]
    },
    {
     "name": "stderr",
     "output_type": "stream",
     "text": [
      "Training: 100%|██████████| 6928/6928 [14:02<00:00,  8.22it/s]\n",
      "Test: 100%|██████████| 1732/1732 [01:02<00:00, 27.50it/s]\n"
     ]
    },
    {
     "name": "stdout",
     "output_type": "stream",
     "text": [
      "train loss: 5.38516023101212 \n",
      "testing loss: 5.027145098869024 \n",
      "Epoch:  4\n"
     ]
    },
    {
     "name": "stderr",
     "output_type": "stream",
     "text": [
      "Training: 100%|██████████| 6928/6928 [13:58<00:00,  8.26it/s]\n",
      "Test: 100%|██████████| 1732/1732 [01:02<00:00, 27.60it/s]\n"
     ]
    },
    {
     "name": "stdout",
     "output_type": "stream",
     "text": [
      "train loss: 4.892993814950727 \n",
      "testing loss: 4.535506429903502 \n",
      "Epoch:  5\n"
     ]
    },
    {
     "name": "stderr",
     "output_type": "stream",
     "text": [
      "Training: 100%|██████████| 6928/6928 [13:58<00:00,  8.26it/s]\n",
      "Test: 100%|██████████| 1732/1732 [01:02<00:00, 27.51it/s]\n"
     ]
    },
    {
     "name": "stdout",
     "output_type": "stream",
     "text": [
      "train loss: 4.429659286285934 \n",
      "testing loss: 4.074534267531257 \n",
      "Epoch:  6\n"
     ]
    },
    {
     "name": "stderr",
     "output_type": "stream",
     "text": [
      "Training: 100%|██████████| 6928/6928 [13:59<00:00,  8.25it/s]\n",
      "Test: 100%|██████████| 1732/1732 [01:02<00:00, 27.54it/s]\n"
     ]
    },
    {
     "name": "stdout",
     "output_type": "stream",
     "text": [
      "train loss: 3.9931765754145783 \n",
      "testing loss: 3.6428973086987027 \n",
      "Epoch:  7\n"
     ]
    },
    {
     "name": "stderr",
     "output_type": "stream",
     "text": [
      "Training: 100%|██████████| 6928/6928 [13:59<00:00,  8.25it/s]\n",
      "Test: 100%|██████████| 1732/1732 [01:02<00:00, 27.51it/s]\n"
     ]
    },
    {
     "name": "stdout",
     "output_type": "stream",
     "text": [
      "train loss: 3.585075203630445 \n",
      "testing loss: 3.2415435453210084 \n",
      "Epoch:  8\n"
     ]
    },
    {
     "name": "stderr",
     "output_type": "stream",
     "text": [
      "Training: 100%|██████████| 6928/6928 [13:58<00:00,  8.26it/s]\n",
      "Test: 100%|██████████| 1732/1732 [01:02<00:00, 27.55it/s]\n"
     ]
    },
    {
     "name": "stdout",
     "output_type": "stream",
     "text": [
      "train loss: 3.2103205618489423 \n",
      "testing loss: 2.87775200701751 \n",
      "Epoch:  9\n"
     ]
    },
    {
     "name": "stderr",
     "output_type": "stream",
     "text": [
      "Training: 100%|██████████| 6928/6928 [13:58<00:00,  8.26it/s]\n",
      "Test: 100%|██████████| 1732/1732 [01:02<00:00, 27.55it/s]\n"
     ]
    },
    {
     "name": "stdout",
     "output_type": "stream",
     "text": [
      "train loss: 2.866498921367643 \n",
      "testing loss: 2.548973407054333 \n",
      "Epoch:  10\n"
     ]
    },
    {
     "name": "stderr",
     "output_type": "stream",
     "text": [
      "Training: 100%|██████████| 6928/6928 [13:58<00:00,  8.26it/s]\n",
      "Test: 100%|██████████| 1732/1732 [01:02<00:00, 27.52it/s]\n"
     ]
    },
    {
     "name": "stdout",
     "output_type": "stream",
     "text": [
      "train loss: 2.5613774797141415 \n",
      "testing loss: 2.26327544671008 \n",
      "Epoch:  11\n"
     ]
    },
    {
     "name": "stderr",
     "output_type": "stream",
     "text": [
      "Training: 100%|██████████| 6928/6928 [14:00<00:00,  8.25it/s]\n",
      "Test: 100%|██████████| 1732/1732 [01:03<00:00, 27.40it/s]\n"
     ]
    },
    {
     "name": "stdout",
     "output_type": "stream",
     "text": [
      "train loss: 2.2863585742805626 \n",
      "testing loss: 2.005559433036533 \n",
      "Epoch:  12\n"
     ]
    },
    {
     "name": "stderr",
     "output_type": "stream",
     "text": [
      "Training: 100%|██████████| 6928/6928 [14:02<00:00,  8.22it/s]\n",
      "Test: 100%|██████████| 1732/1732 [01:03<00:00, 27.41it/s]\n"
     ]
    },
    {
     "name": "stdout",
     "output_type": "stream",
     "text": [
      "train loss: 2.045648744488974 \n",
      "testing loss: 1.7845391031982718 \n",
      "Epoch:  13\n"
     ]
    },
    {
     "name": "stderr",
     "output_type": "stream",
     "text": [
      "Training: 100%|██████████| 6928/6928 [14:02<00:00,  8.22it/s]\n",
      "Test: 100%|██████████| 1732/1732 [01:03<00:00, 27.35it/s]\n"
     ]
    },
    {
     "name": "stdout",
     "output_type": "stream",
     "text": [
      "train loss: 1.8333540579119125 \n",
      "testing loss: 1.592889520367629 \n",
      "Epoch:  14\n"
     ]
    },
    {
     "name": "stderr",
     "output_type": "stream",
     "text": [
      "Training: 100%|██████████| 6928/6928 [14:02<00:00,  8.22it/s]\n",
      "Test: 100%|██████████| 1732/1732 [01:03<00:00, 27.41it/s]\n"
     ]
    },
    {
     "name": "stdout",
     "output_type": "stream",
     "text": [
      "train loss: 1.6491660323794113 \n",
      "testing loss: 1.4260402268818289 \n",
      "Epoch:  15\n"
     ]
    },
    {
     "name": "stderr",
     "output_type": "stream",
     "text": [
      "Training: 100%|██████████| 6928/6928 [14:02<00:00,  8.22it/s]\n",
      "Test: 100%|██████████| 1732/1732 [01:03<00:00, 27.39it/s]"
     ]
    },
    {
     "name": "stdout",
     "output_type": "stream",
     "text": [
      "train loss: 1.4888343672863882 \n",
      "testing loss: 1.2850339930960544 \n"
     ]
    },
    {
     "name": "stderr",
     "output_type": "stream",
     "text": [
      "\n"
     ]
    }
   ],
   "source": [
    "train_loss_per_epoch = []\n",
    "test_loss_per_epoch = []\n",
    "\n",
    "\n",
    "epochs = 15\n",
    "\n",
    "for epoch_num in range(epochs):\n",
    "    print('Epoch: ', epoch_num + 1)\n",
    "    '''\n",
    "    Training\n",
    "    '''\n",
    "    model.train()\n",
    "    train_loss = 0\n",
    "    for step_num, batch_data in enumerate(tqdm(train_dataloader,desc='Training')):\n",
    "        input_ids, att_mask, labels = [data.to(device) for data in batch_data]\n",
    "        output = model(input_ids = input_ids, attention_mask=att_mask, labels= labels)\n",
    "        \n",
    "        loss = output.loss\n",
    "        train_loss += loss.item()\n",
    "\n",
    "        model.zero_grad()\n",
    "        loss.backward()\n",
    "        del loss\n",
    "\n",
    "        clip_grad_norm_(parameters=model.parameters(), max_norm=1.0)\n",
    "        optimizer.step()\n",
    "        scheduler.step()\n",
    "\n",
    "    train_loss_per_epoch.append(train_loss / (step_num + 1))              \n",
    "\n",
    "\n",
    "    '''\n",
    "    Testing\n",
    "    '''\n",
    "    model.eval()\n",
    "    test_loss = 0\n",
    "    test_pred = []\n",
    "    with torch.no_grad():\n",
    "        for step_num_e, batch_data in enumerate(tqdm(test_dataloader,desc='Test')):\n",
    "            input_ids, att_mask, labels = [data.to(device) for data in batch_data]\n",
    "            output = model(input_ids = input_ids, attention_mask=att_mask, labels= labels)\n",
    "\n",
    "            loss = output.loss\n",
    "            test_loss += loss.item()\n",
    "   \n",
    "            test_pred.append(np.argmax(output.logits.cpu().detach().numpy(),axis=-1))\n",
    "        \n",
    "    test_loss_per_epoch.append(test_loss / (step_num_e + 1))\n",
    "    test_pred = np.concatenate(test_pred)\n",
    "\n",
    "    '''\n",
    "    Loss message\n",
    "    '''\n",
    "    print(\"train loss: {0} \".format(train_loss / (step_num + 1)))\n",
    "    print(\"testing loss: {0} \".format(test_loss / (step_num_e + 1)))\n"
   ]
  },
  {
   "cell_type": "markdown",
   "id": "0a9260fe",
   "metadata": {},
   "source": [
    "Initial test loss"
   ]
  },
  {
   "cell_type": "code",
   "execution_count": 132,
   "id": "a354234a",
   "metadata": {
    "scrolled": true
   },
   "outputs": [
    {
     "data": {
      "text/plain": [
       "9015.656203269958"
      ]
     },
     "execution_count": 132,
     "metadata": {},
     "output_type": "execute_result"
    }
   ],
   "source": [
    "test_loss"
   ]
  },
  {
   "cell_type": "code",
   "execution_count": 22,
   "id": "541fe20b",
   "metadata": {},
   "outputs": [],
   "source": [
    "model.save_pretrained(\"pokemodel\")"
   ]
  },
  {
   "cell_type": "markdown",
   "id": "706cf585",
   "metadata": {},
   "source": [
    "Post training test loss"
   ]
  },
  {
   "cell_type": "code",
   "execution_count": 21,
   "id": "dff4a729",
   "metadata": {},
   "outputs": [
    {
     "data": {
      "text/plain": [
       "2225.678876042366"
      ]
     },
     "execution_count": 21,
     "metadata": {},
     "output_type": "execute_result"
    }
   ],
   "source": [
    "test_loss"
   ]
  },
  {
   "cell_type": "code",
   "execution_count": 91,
   "id": "10d3ec72",
   "metadata": {},
   "outputs": [
    {
     "data": {
      "text/plain": [
       "BertForSequenceClassification(\n",
       "  (bert): BertModel(\n",
       "    (embeddings): BertEmbeddings(\n",
       "      (word_embeddings): Embedding(30522, 768, padding_idx=0)\n",
       "      (position_embeddings): Embedding(512, 768)\n",
       "      (token_type_embeddings): Embedding(2, 768)\n",
       "      (LayerNorm): LayerNorm((768,), eps=1e-12, elementwise_affine=True)\n",
       "      (dropout): Dropout(p=0.1, inplace=False)\n",
       "    )\n",
       "    (encoder): BertEncoder(\n",
       "      (layer): ModuleList(\n",
       "        (0-11): 12 x BertLayer(\n",
       "          (attention): BertAttention(\n",
       "            (self): BertSelfAttention(\n",
       "              (query): Linear(in_features=768, out_features=768, bias=True)\n",
       "              (key): Linear(in_features=768, out_features=768, bias=True)\n",
       "              (value): Linear(in_features=768, out_features=768, bias=True)\n",
       "              (dropout): Dropout(p=0.1, inplace=False)\n",
       "            )\n",
       "            (output): BertSelfOutput(\n",
       "              (dense): Linear(in_features=768, out_features=768, bias=True)\n",
       "              (LayerNorm): LayerNorm((768,), eps=1e-12, elementwise_affine=True)\n",
       "              (dropout): Dropout(p=0.1, inplace=False)\n",
       "            )\n",
       "          )\n",
       "          (intermediate): BertIntermediate(\n",
       "            (dense): Linear(in_features=768, out_features=3072, bias=True)\n",
       "          )\n",
       "          (output): BertOutput(\n",
       "            (dense): Linear(in_features=3072, out_features=768, bias=True)\n",
       "            (LayerNorm): LayerNorm((768,), eps=1e-12, elementwise_affine=True)\n",
       "            (dropout): Dropout(p=0.1, inplace=False)\n",
       "          )\n",
       "        )\n",
       "      )\n",
       "    )\n",
       "    (pooler): BertPooler(\n",
       "      (dense): Linear(in_features=768, out_features=768, bias=True)\n",
       "      (activation): Tanh()\n",
       "    )\n",
       "  )\n",
       "  (dropout): Dropout(p=0.1, inplace=False)\n",
       "  (classifier): Linear(in_features=768, out_features=1008, bias=True)\n",
       ")"
      ]
     },
     "execution_count": 91,
     "metadata": {},
     "output_type": "execute_result"
    }
   ],
   "source": [
    "model"
   ]
  },
  {
   "cell_type": "code",
   "execution_count": 30,
   "id": "21d2934b",
   "metadata": {},
   "outputs": [],
   "source": [
    "def predict_pokemon(desc, model):\n",
    "    pred_inputs = tokenizer(desc, return_tensors=\"pt\").to(device)\n",
    " \n",
    "    with torch.no_grad():\n",
    "\n",
    "        logits = model(**pred_inputs).logits\n",
    "\n",
    "\n",
    "        predicted_class_id = logits.argmax().item()\n",
    "        second_class_id = torch.topk(logits.flatten(), 3).indices[1]\n",
    "        third_class_id = torch.topk(logits.flatten(), 3).indices[2]\n",
    "\n",
    "    return(class_converter.int2str(predicted_class_id), \n",
    "           class_converter.int2str(second_class_id.item()),\n",
    "           class_converter.int2str(third_class_id.item()))"
   ]
  },
  {
   "cell_type": "code",
   "execution_count": 71,
   "id": "944eb7ee",
   "metadata": {},
   "outputs": [
    {
     "data": {
      "text/plain": [
       "('Raikou', 'Charizard', 'Charmander')"
      ]
     },
     "execution_count": 71,
     "metadata": {},
     "output_type": "execute_result"
    }
   ],
   "source": [
    "predict_pokemon(\"pokemon that shoots fire from its mouth\")"
   ]
  },
  {
   "cell_type": "code",
   "execution_count": 40,
   "id": "9e363231",
   "metadata": {},
   "outputs": [],
   "source": [
    "model.save_pretrained('pokemodel_apr5')"
   ]
  },
  {
   "cell_type": "markdown",
   "id": "75ed7702",
   "metadata": {},
   "source": [
    "Practice Loading in..."
   ]
  },
  {
   "cell_type": "code",
   "execution_count": 27,
   "id": "4a2bc586",
   "metadata": {},
   "outputs": [],
   "source": [
    "model1 = model.from_pretrained(\"pokemodel_apr5\")"
   ]
  },
  {
   "cell_type": "code",
   "execution_count": 86,
   "id": "f6188059",
   "metadata": {},
   "outputs": [
    {
     "name": "stdout",
     "output_type": "stream",
     "text": [
      "tensor([[-0.6715, -4.3084, -2.9991,  ..., -0.6740,  0.7072, -0.0621]],\n",
      "       device='cuda:0')\n"
     ]
    }
   ],
   "source": [
    "model1 = model1.cuda()\n",
    "pred_inputs = tokenizer('elephant', return_tensors=\"pt\").to(device)\n",
    " \n",
    "with torch.no_grad():\n",
    "\n",
    "    logits = model1(**pred_inputs).logits\n",
    "    print(logits)"
   ]
  },
  {
   "cell_type": "code",
   "execution_count": 90,
   "id": "c2f0e887",
   "metadata": {},
   "outputs": [
    {
     "data": {
      "text/plain": [
       "('Slowking', 'Togekiss', 'Omastar')"
      ]
     },
     "execution_count": 90,
     "metadata": {},
     "output_type": "execute_result"
    }
   ],
   "source": [
    "predict_pokemon(\"brendan matthys\", model1)"
   ]
  },
  {
   "cell_type": "markdown",
   "id": "bfece544",
   "metadata": {},
   "source": [
    "Day 2"
   ]
  },
  {
   "cell_type": "code",
   "execution_count": 30,
   "id": "db14d9ea",
   "metadata": {},
   "outputs": [],
   "source": [
    "epochs = 15\n",
    "\n",
    "optimizer = AdamW(model1.parameters(), lr = 2e-6)\n",
    "scheduler = get_linear_schedule_with_warmup(\n",
    "    optimizer,\n",
    "    num_warmup_steps = 0,\n",
    "    num_training_steps = len(train_dataloader) * epochs\n",
    ")"
   ]
  },
  {
   "cell_type": "code",
   "execution_count": 31,
   "id": "3f54d941",
   "metadata": {},
   "outputs": [],
   "source": [
    "model1 = model1.cuda()"
   ]
  },
  {
   "cell_type": "code",
   "execution_count": 33,
   "id": "270bab20",
   "metadata": {},
   "outputs": [
    {
     "name": "stdout",
     "output_type": "stream",
     "text": [
      "Epoch:  1\n"
     ]
    },
    {
     "name": "stderr",
     "output_type": "stream",
     "text": [
      "Training: 100%|██████████| 7483/7483 [15:08<00:00,  8.24it/s]\n",
      "Test: 100%|██████████| 1651/1651 [01:00<00:00, 27.37it/s]\n"
     ]
    },
    {
     "name": "stdout",
     "output_type": "stream",
     "text": [
      "train loss: 1.7163525736102538 \n",
      "testing loss: 1.1663524752887793 \n",
      "Epoch:  2\n"
     ]
    },
    {
     "name": "stderr",
     "output_type": "stream",
     "text": [
      "Training: 100%|██████████| 7483/7483 [15:10<00:00,  8.21it/s]\n",
      "Test: 100%|██████████| 1651/1651 [01:00<00:00, 27.36it/s]\n"
     ]
    },
    {
     "name": "stdout",
     "output_type": "stream",
     "text": [
      "train loss: 1.4701578348982578 \n",
      "testing loss: 0.9927206523377992 \n",
      "Epoch:  3\n"
     ]
    },
    {
     "name": "stderr",
     "output_type": "stream",
     "text": [
      "Training: 100%|██████████| 7483/7483 [15:11<00:00,  8.21it/s]\n",
      "Test: 100%|██████████| 1651/1651 [01:00<00:00, 27.32it/s]\n"
     ]
    },
    {
     "name": "stdout",
     "output_type": "stream",
     "text": [
      "train loss: 1.2786488959125923 \n",
      "testing loss: 0.8531649635641017 \n",
      "Epoch:  4\n"
     ]
    },
    {
     "name": "stderr",
     "output_type": "stream",
     "text": [
      "Training: 100%|██████████| 7483/7483 [15:13<00:00,  8.19it/s]\n",
      "Test: 100%|██████████| 1651/1651 [01:00<00:00, 27.27it/s]\n"
     ]
    },
    {
     "name": "stdout",
     "output_type": "stream",
     "text": [
      "train loss: 1.122545735155072 \n",
      "testing loss: 0.7447241481725264 \n",
      "Epoch:  5\n"
     ]
    },
    {
     "name": "stderr",
     "output_type": "stream",
     "text": [
      "Training: 100%|██████████| 7483/7483 [15:13<00:00,  8.19it/s]\n",
      "Test: 100%|██████████| 1651/1651 [01:00<00:00, 27.29it/s]\n"
     ]
    },
    {
     "name": "stdout",
     "output_type": "stream",
     "text": [
      "train loss: 0.9959615731635992 \n",
      "testing loss: 0.6562479104528566 \n",
      "Epoch:  6\n"
     ]
    },
    {
     "name": "stderr",
     "output_type": "stream",
     "text": [
      "Training: 100%|██████████| 7483/7483 [15:10<00:00,  8.22it/s]\n",
      "Test: 100%|██████████| 1651/1651 [01:00<00:00, 27.32it/s]\n"
     ]
    },
    {
     "name": "stdout",
     "output_type": "stream",
     "text": [
      "train loss: 0.8938860863996798 \n",
      "testing loss: 0.5862352950763586 \n",
      "Epoch:  7\n"
     ]
    },
    {
     "name": "stderr",
     "output_type": "stream",
     "text": [
      "Training: 100%|██████████| 7483/7483 [15:12<00:00,  8.20it/s]\n",
      "Test: 100%|██████████| 1651/1651 [01:00<00:00, 27.32it/s]\n"
     ]
    },
    {
     "name": "stdout",
     "output_type": "stream",
     "text": [
      "train loss: 0.8111197699588696 \n",
      "testing loss: 0.5298776383484082 \n",
      "Epoch:  8\n"
     ]
    },
    {
     "name": "stderr",
     "output_type": "stream",
     "text": [
      "Training: 100%|██████████| 7483/7483 [15:12<00:00,  8.20it/s]\n",
      "Test: 100%|██████████| 1651/1651 [01:00<00:00, 27.32it/s]\n"
     ]
    },
    {
     "name": "stdout",
     "output_type": "stream",
     "text": [
      "train loss: 0.7442111905649769 \n",
      "testing loss: 0.4845248000309332 \n",
      "Epoch:  9\n"
     ]
    },
    {
     "name": "stderr",
     "output_type": "stream",
     "text": [
      "Training: 100%|██████████| 7483/7483 [15:09<00:00,  8.22it/s]\n",
      "Test: 100%|██████████| 1651/1651 [01:00<00:00, 27.49it/s]\n"
     ]
    },
    {
     "name": "stdout",
     "output_type": "stream",
     "text": [
      "train loss: 0.6880408596179232 \n",
      "testing loss: 0.4485710434195925 \n",
      "Epoch:  10\n"
     ]
    },
    {
     "name": "stderr",
     "output_type": "stream",
     "text": [
      "Training: 100%|██████████| 7483/7483 [15:10<00:00,  8.22it/s]\n",
      "Test: 100%|██████████| 1651/1651 [01:00<00:00, 27.35it/s]"
     ]
    },
    {
     "name": "stdout",
     "output_type": "stream",
     "text": [
      "train loss: 0.6432078573586436 \n",
      "testing loss: 0.4203644958451652 \n"
     ]
    },
    {
     "name": "stderr",
     "output_type": "stream",
     "text": [
      "\n"
     ]
    }
   ],
   "source": [
    "model = model1\n",
    "\n",
    "train_loss_per_epoch1 = []\n",
    "test_loss_per_epoch1 = []\n",
    "\n",
    "\n",
    "epochs = 10\n",
    "\n",
    "for epoch_num in range(epochs):\n",
    "    print('Epoch: ', epoch_num + 1)\n",
    "    '''\n",
    "    Training\n",
    "    '''\n",
    "    model.train()\n",
    "    train_loss = 0\n",
    "    for step_num, batch_data in enumerate(tqdm(train_dataloader,desc='Training')):\n",
    "        input_ids, att_mask, labels = [data.to(device) for data in batch_data]\n",
    "        output = model(input_ids = input_ids, attention_mask=att_mask, labels= labels)\n",
    "        \n",
    "        loss = output.loss\n",
    "        train_loss += loss.item()\n",
    "\n",
    "        model.zero_grad()\n",
    "        loss.backward()\n",
    "        del loss\n",
    "\n",
    "        clip_grad_norm_(parameters=model.parameters(), max_norm=1.0)\n",
    "        optimizer.step()\n",
    "        scheduler.step()\n",
    "\n",
    "    train_loss_per_epoch1.append(train_loss / (step_num + 1))              \n",
    "\n",
    "\n",
    "    '''\n",
    "    Testing\n",
    "    '''\n",
    "    model.eval()\n",
    "    test_loss = 0\n",
    "    test_pred = []\n",
    "    with torch.no_grad():\n",
    "        for step_num_e, batch_data in enumerate(tqdm(test_dataloader,desc='Test')):\n",
    "            input_ids, att_mask, labels = [data.to(device) for data in batch_data]\n",
    "            output = model(input_ids = input_ids, attention_mask=att_mask, labels= labels)\n",
    "\n",
    "            loss = output.loss\n",
    "            test_loss += loss.item()\n",
    "   \n",
    "            test_pred.append(np.argmax(output.logits.cpu().detach().numpy(),axis=-1))\n",
    "        \n",
    "    test_loss_per_epoch1.append(test_loss / (step_num_e + 1))\n",
    "    test_pred = np.concatenate(test_pred)\n",
    "\n",
    "    '''\n",
    "    Loss message\n",
    "    '''\n",
    "    print(\"train loss: {0} \".format(train_loss / (step_num + 1)))\n",
    "    print(\"testing loss: {0} \".format(test_loss / (step_num_e + 1)))\n"
   ]
  },
  {
   "cell_type": "code",
   "execution_count": 34,
   "id": "7e34091c",
   "metadata": {},
   "outputs": [],
   "source": [
    "model.save_pretrained('pokemodel_apr6')"
   ]
  },
  {
   "cell_type": "code",
   "execution_count": 43,
   "id": "aafd6db4",
   "metadata": {},
   "outputs": [
    {
     "data": {
      "text/plain": [
       "('Vanillish', 'Abomasnow', 'Snover')"
      ]
     },
     "execution_count": 43,
     "metadata": {},
     "output_type": "execute_result"
    }
   ],
   "source": [
    "predict_pokemon(\"cold pokemon\", model)"
   ]
  },
  {
   "cell_type": "markdown",
   "id": "1844af4f",
   "metadata": {},
   "source": [
    "Day 3 -- with wiki data! "
   ]
  },
  {
   "cell_type": "code",
   "execution_count": 47,
   "id": "5194fc7c",
   "metadata": {},
   "outputs": [],
   "source": [
    "model1 = model.from_pretrained(\"pokemodel_apr6\")"
   ]
  },
  {
   "cell_type": "code",
   "execution_count": 50,
   "id": "b16d51b9",
   "metadata": {},
   "outputs": [
    {
     "name": "stdout",
     "output_type": "stream",
     "text": [
      "tensor([[ 1.9821, -2.0495, -1.1257,  ..., -1.4932, -0.9351, -1.6894]],\n",
      "       device='cuda:0')\n"
     ]
    }
   ],
   "source": [
    "model1 = model1.cuda()\n",
    "pred_inputs = tokenizer('elephant', return_tensors=\"pt\").to(device)\n",
    " \n",
    "with torch.no_grad():\n",
    "\n",
    "    logits = model1(**pred_inputs).logits\n",
    "    print(logits)"
   ]
  },
  {
   "cell_type": "code",
   "execution_count": 51,
   "id": "41143fe2",
   "metadata": {},
   "outputs": [],
   "source": [
    "epochs = 10\n",
    "\n",
    "optimizer = AdamW(model1.parameters(), lr = 2e-6)\n",
    "scheduler = get_linear_schedule_with_warmup(\n",
    "    optimizer,\n",
    "    num_warmup_steps = 0,\n",
    "    num_training_steps = len(train_dataloader) * epochs\n",
    ")"
   ]
  },
  {
   "cell_type": "code",
   "execution_count": 53,
   "id": "c2c389e4",
   "metadata": {},
   "outputs": [
    {
     "name": "stdout",
     "output_type": "stream",
     "text": [
      "Epoch:  1\n"
     ]
    },
    {
     "name": "stderr",
     "output_type": "stream",
     "text": [
      "Training: 100%|██████████| 13629/13629 [27:31<00:00,  8.25it/s]\n",
      "Test: 100%|██████████| 1042/1042 [00:38<00:00, 27.14it/s]\n"
     ]
    },
    {
     "name": "stdout",
     "output_type": "stream",
     "text": [
      "train loss: 2.174676286792867 \n",
      "testing loss: 0.5174251904571697 \n",
      "Epoch:  2\n"
     ]
    },
    {
     "name": "stderr",
     "output_type": "stream",
     "text": [
      "Training: 100%|██████████| 13629/13629 [27:35<00:00,  8.23it/s]\n",
      "Test: 100%|██████████| 1042/1042 [00:38<00:00, 27.32it/s]\n"
     ]
    },
    {
     "name": "stdout",
     "output_type": "stream",
     "text": [
      "train loss: 1.6534603646398027 \n",
      "testing loss: 0.4284073086294583 \n",
      "Epoch:  3\n"
     ]
    },
    {
     "name": "stderr",
     "output_type": "stream",
     "text": [
      "Training: 100%|██████████| 13629/13629 [27:35<00:00,  8.23it/s]\n",
      "Test: 100%|██████████| 1042/1042 [00:38<00:00, 27.11it/s]\n"
     ]
    },
    {
     "name": "stdout",
     "output_type": "stream",
     "text": [
      "train loss: 1.34389510804891 \n",
      "testing loss: 0.3605473042892975 \n",
      "Epoch:  4\n"
     ]
    },
    {
     "name": "stderr",
     "output_type": "stream",
     "text": [
      "Training: 100%|██████████| 13629/13629 [27:34<00:00,  8.24it/s]\n",
      "Test: 100%|██████████| 1042/1042 [00:38<00:00, 27.19it/s]\n"
     ]
    },
    {
     "name": "stdout",
     "output_type": "stream",
     "text": [
      "train loss: 1.1252477233199654 \n",
      "testing loss: 0.30932065593561375 \n",
      "Epoch:  5\n"
     ]
    },
    {
     "name": "stderr",
     "output_type": "stream",
     "text": [
      "Training: 100%|██████████| 13629/13629 [27:31<00:00,  8.25it/s]\n",
      "Test: 100%|██████████| 1042/1042 [00:38<00:00, 27.34it/s]\n"
     ]
    },
    {
     "name": "stdout",
     "output_type": "stream",
     "text": [
      "train loss: 0.9639045988539666 \n",
      "testing loss: 0.2711614287081183 \n",
      "Epoch:  6\n"
     ]
    },
    {
     "name": "stderr",
     "output_type": "stream",
     "text": [
      "Training: 100%|██████████| 13629/13629 [27:28<00:00,  8.27it/s]\n",
      "Test: 100%|██████████| 1042/1042 [00:38<00:00, 27.39it/s]\n"
     ]
    },
    {
     "name": "stdout",
     "output_type": "stream",
     "text": [
      "train loss: 0.8459040060375886 \n",
      "testing loss: 0.24338901926354004 \n",
      "Epoch:  7\n"
     ]
    },
    {
     "name": "stderr",
     "output_type": "stream",
     "text": [
      "Training: 100%|██████████| 13629/13629 [27:28<00:00,  8.27it/s]\n",
      "Test: 100%|██████████| 1042/1042 [00:38<00:00, 27.31it/s]"
     ]
    },
    {
     "name": "stdout",
     "output_type": "stream",
     "text": [
      "train loss: 0.7603962936291224 \n",
      "testing loss: 0.22315266972940392 \n"
     ]
    },
    {
     "name": "stderr",
     "output_type": "stream",
     "text": [
      "\n"
     ]
    }
   ],
   "source": [
    "model = model1\n",
    "\n",
    "train_loss_per_epoch1 = []\n",
    "test_loss_per_epoch1 = []\n",
    "\n",
    "\n",
    "epochs = 7\n",
    "\n",
    "for epoch_num in range(epochs):\n",
    "    print('Epoch: ', epoch_num + 1)\n",
    "    '''\n",
    "    Training\n",
    "    '''\n",
    "    model.train()\n",
    "    train_loss = 0\n",
    "    for step_num, batch_data in enumerate(tqdm(train_dataloader,desc='Training')):\n",
    "        input_ids, att_mask, labels = [data.to(device) for data in batch_data]\n",
    "        output = model(input_ids = input_ids, attention_mask=att_mask, labels= labels)\n",
    "        \n",
    "        loss = output.loss\n",
    "        train_loss += loss.item()\n",
    "\n",
    "        model.zero_grad()\n",
    "        loss.backward()\n",
    "        del loss\n",
    "\n",
    "        clip_grad_norm_(parameters=model.parameters(), max_norm=1.0)\n",
    "        optimizer.step()\n",
    "        scheduler.step()\n",
    "\n",
    "    train_loss_per_epoch1.append(train_loss / (step_num + 1))              \n",
    "\n",
    "\n",
    "    '''\n",
    "    Testing\n",
    "    '''\n",
    "    model.eval()\n",
    "    test_loss = 0\n",
    "    test_pred = []\n",
    "    with torch.no_grad():\n",
    "        for step_num_e, batch_data in enumerate(tqdm(test_dataloader,desc='Test')):\n",
    "            input_ids, att_mask, labels = [data.to(device) for data in batch_data]\n",
    "            output = model(input_ids = input_ids, attention_mask=att_mask, labels= labels)\n",
    "\n",
    "            loss = output.loss\n",
    "            test_loss += loss.item()\n",
    "   \n",
    "            test_pred.append(np.argmax(output.logits.cpu().detach().numpy(),axis=-1))\n",
    "        \n",
    "    test_loss_per_epoch1.append(test_loss / (step_num_e + 1))\n",
    "    test_pred = np.concatenate(test_pred)\n",
    "\n",
    "    '''\n",
    "    Loss message\n",
    "    '''\n",
    "    print(\"train loss: {0} \".format(train_loss / (step_num + 1)))\n",
    "    print(\"testing loss: {0} \".format(test_loss / (step_num_e + 1)))\n"
   ]
  },
  {
   "cell_type": "code",
   "execution_count": 54,
   "id": "9e82ac1d",
   "metadata": {},
   "outputs": [],
   "source": [
    "model.save_pretrained('pokemodel_apr17')"
   ]
  },
  {
   "cell_type": "code",
   "execution_count": 95,
   "id": "e8c6c0b7",
   "metadata": {},
   "outputs": [
    {
     "data": {
      "text/plain": [
       "('Donphan', 'Rhyperior', 'Fraxure')"
      ]
     },
     "execution_count": 95,
     "metadata": {},
     "output_type": "execute_result"
    }
   ],
   "source": [
    "predict_pokemon(\n",
    "    \"Purple dinosaur type, has a solo horn on its nose and looks like it has big blueish ears\"\n",
    "    , model)\n"
   ]
  },
  {
   "cell_type": "markdown",
   "id": "2a2ab589",
   "metadata": {},
   "source": [
    "Try this but as a stop model. Going to do a LOT of training here"
   ]
  },
  {
   "cell_type": "code",
   "execution_count": 24,
   "id": "e428a2f6",
   "metadata": {},
   "outputs": [],
   "source": [
    "model1 = model.from_pretrained(\"pokemodel_apr17\")\n",
    "\n",
    "epochs = 10\n",
    "\n",
    "optimizer = AdamW(model1.parameters(), lr = 2e-6)\n",
    "scheduler = get_linear_schedule_with_warmup(\n",
    "    optimizer,\n",
    "    num_warmup_steps = 0,\n",
    "    num_training_steps = len(train_dataloader) * epochs\n",
    ")\n",
    "\n"
   ]
  },
  {
   "cell_type": "code",
   "execution_count": 27,
   "id": "6d93dba1",
   "metadata": {},
   "outputs": [
    {
     "name": "stdout",
     "output_type": "stream",
     "text": [
      "Epoch:  1\n"
     ]
    },
    {
     "name": "stderr",
     "output_type": "stream",
     "text": [
      "Training: 100%|██████████| 13629/13629 [27:24<00:00,  8.29it/s]\n",
      "Test: 100%|██████████| 1042/1042 [00:38<00:00, 27.41it/s]\n"
     ]
    },
    {
     "name": "stdout",
     "output_type": "stream",
     "text": [
      "train loss: 1.2198126944687668 \n",
      "testing loss: 0.3219016258767493 \n",
      "Epoch:  2\n"
     ]
    },
    {
     "name": "stderr",
     "output_type": "stream",
     "text": [
      "Training: 100%|██████████| 13629/13629 [27:27<00:00,  8.27it/s]\n",
      "Test: 100%|██████████| 1042/1042 [00:37<00:00, 27.51it/s]\n"
     ]
    },
    {
     "name": "stdout",
     "output_type": "stream",
     "text": [
      "train loss: 0.9190081049513157 \n",
      "testing loss: 0.2576289624226013 \n",
      "Epoch:  3\n"
     ]
    },
    {
     "name": "stderr",
     "output_type": "stream",
     "text": [
      "Training: 100%|██████████| 13629/13629 [27:28<00:00,  8.27it/s]\n",
      "Test: 100%|██████████| 1042/1042 [00:38<00:00, 27.42it/s]\n"
     ]
    },
    {
     "name": "stdout",
     "output_type": "stream",
     "text": [
      "train loss: 0.7475817165328551 \n",
      "testing loss: 0.21072839914987332 \n",
      "Epoch:  4\n"
     ]
    },
    {
     "name": "stderr",
     "output_type": "stream",
     "text": [
      "Training: 100%|██████████| 13629/13629 [27:29<00:00,  8.26it/s]\n",
      "Test: 100%|██████████| 1042/1042 [00:37<00:00, 27.43it/s]\n"
     ]
    },
    {
     "name": "stdout",
     "output_type": "stream",
     "text": [
      "train loss: 0.6295280578338559 \n",
      "testing loss: 0.1824749679074063 \n",
      "Epoch:  5\n"
     ]
    },
    {
     "name": "stderr",
     "output_type": "stream",
     "text": [
      "Training: 100%|██████████| 13629/13629 [27:28<00:00,  8.27it/s]\n",
      "Test: 100%|██████████| 1042/1042 [00:37<00:00, 27.44it/s]\n"
     ]
    },
    {
     "name": "stdout",
     "output_type": "stream",
     "text": [
      "train loss: 0.5438670648666578 \n",
      "testing loss: 0.15895070722451765 \n",
      "Epoch:  6\n"
     ]
    },
    {
     "name": "stderr",
     "output_type": "stream",
     "text": [
      "Training: 100%|██████████| 13629/13629 [27:26<00:00,  8.28it/s]\n",
      "Test: 100%|██████████| 1042/1042 [00:37<00:00, 27.50it/s]\n"
     ]
    },
    {
     "name": "stdout",
     "output_type": "stream",
     "text": [
      "train loss: 0.48215685560818256 \n",
      "testing loss: 0.14379370710213674 \n",
      "Epoch:  7\n"
     ]
    },
    {
     "name": "stderr",
     "output_type": "stream",
     "text": [
      "Training: 100%|██████████| 13629/13629 [27:25<00:00,  8.28it/s]\n",
      "Test: 100%|██████████| 1042/1042 [00:37<00:00, 27.50it/s]"
     ]
    },
    {
     "name": "stdout",
     "output_type": "stream",
     "text": [
      "train loss: 0.43654619537756395 \n",
      "testing loss: 0.13239858217176315 \n"
     ]
    },
    {
     "name": "stderr",
     "output_type": "stream",
     "text": [
      "\n"
     ]
    }
   ],
   "source": [
    "\n",
    "model = model1.cuda()\n",
    "\n",
    "train_loss_per_epoch1 = []\n",
    "test_loss_per_epoch1 = []\n",
    "\n",
    "\n",
    "epochs = 7\n",
    "\n",
    "for epoch_num in range(epochs):\n",
    "    print('Epoch: ', epoch_num + 1)\n",
    "    '''\n",
    "    Training\n",
    "    '''\n",
    "    model.train()\n",
    "    train_loss = 0\n",
    "    for step_num, batch_data in enumerate(tqdm(train_dataloader,desc='Training')):\n",
    "        input_ids, att_mask, labels = [data.to(device) for data in batch_data]\n",
    "        output = model(input_ids = input_ids, attention_mask=att_mask, labels= labels)\n",
    "        \n",
    "        loss = output.loss\n",
    "        train_loss += loss.item()\n",
    "\n",
    "        model.zero_grad()\n",
    "        loss.backward()\n",
    "        del loss\n",
    "\n",
    "        clip_grad_norm_(parameters=model.parameters(), max_norm=1.0)\n",
    "        optimizer.step()\n",
    "        scheduler.step()\n",
    "\n",
    "    train_loss_per_epoch1.append(train_loss / (step_num + 1))              \n",
    "\n",
    "\n",
    "    '''\n",
    "    Testing\n",
    "    '''\n",
    "    model.eval()\n",
    "    test_loss = 0\n",
    "    test_pred = []\n",
    "    with torch.no_grad():\n",
    "        for step_num_e, batch_data in enumerate(tqdm(test_dataloader,desc='Test')):\n",
    "            input_ids, att_mask, labels = [data.to(device) for data in batch_data]\n",
    "            output = model(input_ids = input_ids, attention_mask=att_mask, labels= labels)\n",
    "\n",
    "            loss = output.loss\n",
    "            test_loss += loss.item()\n",
    "   \n",
    "            test_pred.append(np.argmax(output.logits.cpu().detach().numpy(),axis=-1))\n",
    "        \n",
    "    test_loss_per_epoch1.append(test_loss / (step_num_e + 1))\n",
    "    test_pred = np.concatenate(test_pred)\n",
    "\n",
    "    '''\n",
    "    Loss message\n",
    "    '''\n",
    "    print(\"train loss: {0} \".format(train_loss / (step_num + 1)))\n",
    "    print(\"testing loss: {0} \".format(test_loss / (step_num_e + 1)))\n"
   ]
  },
  {
   "cell_type": "code",
   "execution_count": 33,
   "id": "d47dcfbd",
   "metadata": {},
   "outputs": [],
   "source": [
    "model.save_pretrained('pokemodel_apr17_stopwords')"
   ]
  },
  {
   "cell_type": "code",
   "execution_count": 31,
   "id": "52299666",
   "metadata": {},
   "outputs": [
    {
     "data": {
      "text/plain": [
       "('Donphan', 'Cranidos', 'Kricketune')"
      ]
     },
     "execution_count": 31,
     "metadata": {},
     "output_type": "execute_result"
    }
   ],
   "source": [
    "predict_pokemon(\n",
    "    \"Purple dinosaur type, has a solo horn on its nose and looks like it has big blueish ears\"\n",
    "    , model)\n"
   ]
  },
  {
   "cell_type": "markdown",
   "id": "60f95bfd",
   "metadata": {},
   "source": [
    "Let's train the stopwords a little bit more, then we can move to the testing file"
   ]
  },
  {
   "cell_type": "code",
   "execution_count": 23,
   "id": "a98c1cdb",
   "metadata": {},
   "outputs": [],
   "source": [
    "model1 = model.from_pretrained(\"pokemodel_apr17_stopwords\")\n",
    "\n",
    "epochs = 10\n",
    "\n",
    "optimizer = AdamW(model1.parameters(), lr = 2e-6)\n",
    "scheduler = get_linear_schedule_with_warmup(\n",
    "    optimizer,\n",
    "    num_warmup_steps = 0,\n",
    "    num_training_steps = len(train_dataloader) * epochs\n",
    ")\n",
    "\n"
   ]
  },
  {
   "cell_type": "code",
   "execution_count": 24,
   "id": "c87b8703",
   "metadata": {},
   "outputs": [
    {
     "name": "stdout",
     "output_type": "stream",
     "text": [
      "Epoch:  1\n"
     ]
    },
    {
     "name": "stderr",
     "output_type": "stream",
     "text": [
      "Training: 100%|██████████| 13629/13629 [27:57<00:00,  8.12it/s]\n",
      "Test: 100%|██████████| 1042/1042 [00:37<00:00, 27.53it/s]\n"
     ]
    },
    {
     "name": "stdout",
     "output_type": "stream",
     "text": [
      "train loss: 0.40186336648365034 \n",
      "testing loss: 0.11353446448207502 \n",
      "Epoch:  2\n"
     ]
    },
    {
     "name": "stderr",
     "output_type": "stream",
     "text": [
      "Training: 100%|██████████| 13629/13629 [27:42<00:00,  8.20it/s]\n",
      "Test: 100%|██████████| 1042/1042 [00:37<00:00, 27.54it/s]\n"
     ]
    },
    {
     "name": "stdout",
     "output_type": "stream",
     "text": [
      "train loss: 0.3312793173615054 \n",
      "testing loss: 0.09691325695863469 \n",
      "Epoch:  3\n"
     ]
    },
    {
     "name": "stderr",
     "output_type": "stream",
     "text": [
      "Training: 100%|██████████| 13629/13629 [27:43<00:00,  8.19it/s]\n",
      "Test: 100%|██████████| 1042/1042 [00:37<00:00, 27.51it/s]\n"
     ]
    },
    {
     "name": "stdout",
     "output_type": "stream",
     "text": [
      "train loss: 0.2794026941786999 \n",
      "testing loss: 0.08311590683001188 \n",
      "Epoch:  4\n"
     ]
    },
    {
     "name": "stderr",
     "output_type": "stream",
     "text": [
      "Training: 100%|██████████| 13629/13629 [27:43<00:00,  8.19it/s]\n",
      "Test: 100%|██████████| 1042/1042 [00:37<00:00, 27.47it/s]\n"
     ]
    },
    {
     "name": "stdout",
     "output_type": "stream",
     "text": [
      "train loss: 0.24153434211260172 \n",
      "testing loss: 0.07457745357750846 \n",
      "Epoch:  5\n"
     ]
    },
    {
     "name": "stderr",
     "output_type": "stream",
     "text": [
      "Training: 100%|██████████| 13629/13629 [27:43<00:00,  8.19it/s]\n",
      "Test: 100%|██████████| 1042/1042 [00:37<00:00, 27.54it/s]\n"
     ]
    },
    {
     "name": "stdout",
     "output_type": "stream",
     "text": [
      "train loss: 0.21288665428935882 \n",
      "testing loss: 0.06722204967879203 \n",
      "Epoch:  6\n"
     ]
    },
    {
     "name": "stderr",
     "output_type": "stream",
     "text": [
      "Training: 100%|██████████| 13629/13629 [27:43<00:00,  8.19it/s]\n",
      "Test: 100%|██████████| 1042/1042 [00:37<00:00, 27.49it/s]\n"
     ]
    },
    {
     "name": "stdout",
     "output_type": "stream",
     "text": [
      "train loss: 0.1926927720806425 \n",
      "testing loss: 0.06178272706313477 \n",
      "Epoch:  7\n"
     ]
    },
    {
     "name": "stderr",
     "output_type": "stream",
     "text": [
      "Training: 100%|██████████| 13629/13629 [27:43<00:00,  8.19it/s]\n",
      "Test: 100%|██████████| 1042/1042 [00:37<00:00, 27.46it/s]"
     ]
    },
    {
     "name": "stdout",
     "output_type": "stream",
     "text": [
      "train loss: 0.1775660244009307 \n",
      "testing loss: 0.058671759833419074 \n"
     ]
    },
    {
     "name": "stderr",
     "output_type": "stream",
     "text": [
      "\n"
     ]
    }
   ],
   "source": [
    "\n",
    "model = model1.cuda()\n",
    "\n",
    "train_loss_per_epoch1 = []\n",
    "test_loss_per_epoch1 = []\n",
    "\n",
    "\n",
    "epochs = 7\n",
    "\n",
    "for epoch_num in range(epochs):\n",
    "    print('Epoch: ', epoch_num + 1)\n",
    "    '''\n",
    "    Training\n",
    "    '''\n",
    "    model.train()\n",
    "    train_loss = 0\n",
    "    for step_num, batch_data in enumerate(tqdm(train_dataloader,desc='Training')):\n",
    "        input_ids, att_mask, labels = [data.to(device) for data in batch_data]\n",
    "        output = model(input_ids = input_ids, attention_mask=att_mask, labels= labels)\n",
    "        \n",
    "        loss = output.loss\n",
    "        train_loss += loss.item()\n",
    "\n",
    "        model.zero_grad()\n",
    "        loss.backward()\n",
    "        del loss\n",
    "\n",
    "        clip_grad_norm_(parameters=model.parameters(), max_norm=1.0)\n",
    "        optimizer.step()\n",
    "        scheduler.step()\n",
    "\n",
    "    train_loss_per_epoch1.append(train_loss / (step_num + 1))              \n",
    "\n",
    "\n",
    "    '''\n",
    "    Testing\n",
    "    '''\n",
    "    model.eval()\n",
    "    test_loss = 0\n",
    "    test_pred = []\n",
    "    with torch.no_grad():\n",
    "        for step_num_e, batch_data in enumerate(tqdm(test_dataloader,desc='Test')):\n",
    "            input_ids, att_mask, labels = [data.to(device) for data in batch_data]\n",
    "            output = model(input_ids = input_ids, attention_mask=att_mask, labels= labels)\n",
    "\n",
    "            loss = output.loss\n",
    "            test_loss += loss.item()\n",
    "   \n",
    "            test_pred.append(np.argmax(output.logits.cpu().detach().numpy(),axis=-1))\n",
    "        \n",
    "    test_loss_per_epoch1.append(test_loss / (step_num_e + 1))\n",
    "    test_pred = np.concatenate(test_pred)\n",
    "\n",
    "    '''\n",
    "    Loss message\n",
    "    '''\n",
    "    print(\"train loss: {0} \".format(train_loss / (step_num + 1)))\n",
    "    print(\"testing loss: {0} \".format(test_loss / (step_num_e + 1)))\n"
   ]
  },
  {
   "cell_type": "code",
   "execution_count": 25,
   "id": "250427d8",
   "metadata": {},
   "outputs": [],
   "source": [
    "model.save_pretrained('pokemodel_apr17_stopwords_1')"
   ]
  },
  {
   "cell_type": "code",
   "execution_count": 87,
   "id": "3a0cc80a",
   "metadata": {},
   "outputs": [],
   "source": [
    "def predict_pokemon(desc, model, filter_stopwords = False):\n",
    "    \n",
    "    for descriptor in ['Pokémon', 'Pokemon', 'pokemon','pokémon']:\n",
    "        if descriptor in desc:\n",
    "            desc = desc.replace(descriptor,'')\n",
    "    if filter_stopwords:\n",
    "        desc = ' '.join([word for word in desc.split() if word not in (stop_words)])\n",
    "    pred_inputs = tokenizer(desc, return_tensors=\"pt\").to(device)\n",
    " \n",
    "    with torch.no_grad():\n",
    "\n",
    "        logits = model(**pred_inputs).logits\n",
    "\n",
    "\n",
    "        predicted_class_id = logits.argmax().item()\n",
    "        second_class_id = torch.topk(logits.flatten(), 3).indices[1]\n",
    "        third_class_id = torch.topk(logits.flatten(), 3).indices[2]\n",
    "\n",
    "    return(class_converter.int2str(predicted_class_id), \n",
    "           class_converter.int2str(second_class_id.item()),\n",
    "           class_converter.int2str(third_class_id.item()))"
   ]
  },
  {
   "cell_type": "code",
   "execution_count": 92,
   "id": "e802feba",
   "metadata": {},
   "outputs": [
    {
     "data": {
      "text/html": [
       "<div>\n",
       "<style scoped>\n",
       "    .dataframe tbody tr th:only-of-type {\n",
       "        vertical-align: middle;\n",
       "    }\n",
       "\n",
       "    .dataframe tbody tr th {\n",
       "        vertical-align: top;\n",
       "    }\n",
       "\n",
       "    .dataframe thead th {\n",
       "        text-align: right;\n",
       "    }\n",
       "</style>\n",
       "<table border=\"1\" class=\"dataframe\">\n",
       "  <thead>\n",
       "    <tr style=\"text-align: right;\">\n",
       "      <th></th>\n",
       "      <th>Pokemon</th>\n",
       "      <th>value</th>\n",
       "    </tr>\n",
       "  </thead>\n",
       "  <tbody>\n",
       "    <tr>\n",
       "      <th>8599</th>\n",
       "      <td>Pachirisu</td>\n",
       "      <td>These fur balls exhibit static</td>\n",
       "    </tr>\n",
       "  </tbody>\n",
       "</table>\n",
       "</div>"
      ],
      "text/plain": [
       "        Pokemon                           value\n",
       "8599  Pachirisu  These fur balls exhibit static"
      ]
     },
     "execution_count": 92,
     "metadata": {},
     "output_type": "execute_result"
    }
   ],
   "source": [
    "df.sample(1)[['Pokemon','value']]"
   ]
  },
  {
   "cell_type": "code",
   "execution_count": 95,
   "id": "f2c2d287",
   "metadata": {},
   "outputs": [
    {
     "data": {
      "text/plain": [
       "('Palossand', 'Sandaconda', 'Silicobra')"
      ]
     },
     "execution_count": 95,
     "metadata": {},
     "output_type": "execute_result"
    }
   ],
   "source": [
    "predict_pokemon('sand castle', model, filter_stopwords = True)"
   ]
  },
  {
   "cell_type": "code",
   "execution_count": null,
   "id": "38d394a2",
   "metadata": {},
   "outputs": [],
   "source": []
  }
 ],
 "metadata": {
  "kernelspec": {
   "display_name": "Python 3",
   "language": "python",
   "name": "python3"
  },
  "language_info": {
   "codemirror_mode": {
    "name": "ipython",
    "version": 3
   },
   "file_extension": ".py",
   "mimetype": "text/x-python",
   "name": "python",
   "nbconvert_exporter": "python",
   "pygments_lexer": "ipython3",
   "version": "3.9.16 (main, Mar  8 2023, 04:29:44) \n[Clang 14.0.6 ]"
  },
  "vscode": {
   "interpreter": {
    "hash": "5bbc0eb2c63a10f5345bf6ea0711d132a5093de86931785f2e13915cf888207f"
   }
  }
 },
 "nbformat": 4,
 "nbformat_minor": 5
}
