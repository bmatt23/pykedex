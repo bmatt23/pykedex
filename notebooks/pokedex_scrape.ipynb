{
 "cells": [
  {
   "cell_type": "code",
   "execution_count": 110,
   "metadata": {},
   "outputs": [],
   "source": [
    "import pandas as pd\n",
    "import numpy as np\n",
    "import requests\n",
    "import selenium\n",
    "import urllib3\n",
    "from bs4 import BeautifulSoup\n",
    "import regex as re\n",
    "from tqdm import tqdm\n",
    "import seaborn as sns\n",
    "import matplotlib.pyplot as plt"
   ]
  },
  {
   "cell_type": "code",
   "execution_count": 54,
   "metadata": {},
   "outputs": [],
   "source": [
    "\n",
    "url = 'https://pokemondb.net/pokedex/all'\n",
    "r = requests.get(url)\n",
    "all_pokemon = pd.read_html(r.text)"
   ]
  },
  {
   "cell_type": "code",
   "execution_count": 77,
   "metadata": {},
   "outputs": [
    {
     "data": {
      "text/html": [
       "<div>\n",
       "<style scoped>\n",
       "    .dataframe tbody tr th:only-of-type {\n",
       "        vertical-align: middle;\n",
       "    }\n",
       "\n",
       "    .dataframe tbody tr th {\n",
       "        vertical-align: top;\n",
       "    }\n",
       "\n",
       "    .dataframe thead th {\n",
       "        text-align: right;\n",
       "    }\n",
       "</style>\n",
       "<table border=\"1\" class=\"dataframe\">\n",
       "  <thead>\n",
       "    <tr style=\"text-align: right;\">\n",
       "      <th></th>\n",
       "      <th>#</th>\n",
       "      <th>Name</th>\n",
       "      <th>Type</th>\n",
       "      <th>Total</th>\n",
       "      <th>HP</th>\n",
       "      <th>Attack</th>\n",
       "      <th>Defense</th>\n",
       "      <th>Sp. Atk</th>\n",
       "      <th>Sp. Def</th>\n",
       "      <th>Speed</th>\n",
       "    </tr>\n",
       "  </thead>\n",
       "  <tbody>\n",
       "    <tr>\n",
       "      <th>6</th>\n",
       "      <td>6</td>\n",
       "      <td>Charizard</td>\n",
       "      <td>Fire Flying</td>\n",
       "      <td>534</td>\n",
       "      <td>78</td>\n",
       "      <td>84</td>\n",
       "      <td>78</td>\n",
       "      <td>109</td>\n",
       "      <td>85</td>\n",
       "      <td>100</td>\n",
       "    </tr>\n",
       "  </tbody>\n",
       "</table>\n",
       "</div>"
      ],
      "text/plain": [
       "   #       Name         Type  Total  HP  Attack  Defense  Sp. Atk  Sp. Def  \\\n",
       "6  6  Charizard  Fire Flying    534  78      84       78      109       85   \n",
       "\n",
       "   Speed  \n",
       "6    100  "
      ]
     },
     "execution_count": 77,
     "metadata": {},
     "output_type": "execute_result"
    }
   ],
   "source": [
    "# get pokemon name to avoid repeats\n",
    "all_pokemon[0][all_pokemon[0]['#'] == 6].head(1)"
   ]
  },
  {
   "cell_type": "code",
   "execution_count": 78,
   "metadata": {},
   "outputs": [
    {
     "data": {
      "text/plain": [
       "1008"
      ]
     },
     "execution_count": 78,
     "metadata": {},
     "output_type": "execute_result"
    }
   ],
   "source": [
    "all_pokemon[0]['#'].max()"
   ]
  },
  {
   "cell_type": "code",
   "execution_count": 101,
   "metadata": {},
   "outputs": [
    {
     "name": "stderr",
     "output_type": "stream",
     "text": [
      "100%|██████████| 1008/1008 [07:45<00:00,  2.17it/s]\n"
     ]
    }
   ],
   "source": [
    "poke_df = pd.DataFrame()\n",
    "# all_pokemon[0]['#'].max() + 1\n",
    "for i in tqdm(range(1, all_pokemon[0]['#'].max() + 1)):\n",
    "\n",
    "    #create concatenator dataframe\n",
    "    temporary_df = pd.DataFrame()\n",
    "\n",
    "    #pull pokemon name from list and exclude variations\n",
    "    pokemon_name = all_pokemon[0][all_pokemon[0]['#'] == i].head(1).iloc[0,1]\n",
    "\n",
    "    # scrape webpage\n",
    "    url = 'https://pokemondb.net/pokedex/{}'.format(i)\n",
    "    page = requests.get(url)\n",
    "    soup = BeautifulSoup(page.content, 'html.parser')\n",
    "\n",
    "    # get a list of descriptions\n",
    "    desc = soup.find_all(\"td\",{\"class\": \"cell-med-text\"})\n",
    "    desc_list = []\n",
    "\n",
    "    for j in range(len(desc)):\n",
    "        desc_list.append(str(soup.find_all(\"td\",{\"class\": \"cell-med-text\"})[j]).\n",
    "        replace('<td class=\"cell-med-text\">','').\n",
    "        replace('</td>',''))\n",
    "    temporary_df['Pokemon'] = [pokemon_name] * len(desc)\n",
    "    temporary_df['Description'] = desc_list\n",
    "\n",
    "    poke_df = pd.concat([poke_df,temporary_df])\n",
    "\n",
    "    "
   ]
  },
  {
   "cell_type": "code",
   "execution_count": 102,
   "metadata": {},
   "outputs": [
    {
     "data": {
      "text/html": [
       "<div>\n",
       "<style scoped>\n",
       "    .dataframe tbody tr th:only-of-type {\n",
       "        vertical-align: middle;\n",
       "    }\n",
       "\n",
       "    .dataframe tbody tr th {\n",
       "        vertical-align: top;\n",
       "    }\n",
       "\n",
       "    .dataframe thead th {\n",
       "        text-align: right;\n",
       "    }\n",
       "</style>\n",
       "<table border=\"1\" class=\"dataframe\">\n",
       "  <thead>\n",
       "    <tr style=\"text-align: right;\">\n",
       "      <th></th>\n",
       "      <th>Pokemon</th>\n",
       "      <th>Description</th>\n",
       "    </tr>\n",
       "  </thead>\n",
       "  <tbody>\n",
       "    <tr>\n",
       "      <th>0</th>\n",
       "      <td>Bulbasaur</td>\n",
       "      <td>A strange seed was planted on its back at birt...</td>\n",
       "    </tr>\n",
       "    <tr>\n",
       "      <th>1</th>\n",
       "      <td>Bulbasaur</td>\n",
       "      <td>It can go for days without eating a single mor...</td>\n",
       "    </tr>\n",
       "    <tr>\n",
       "      <th>2</th>\n",
       "      <td>Bulbasaur</td>\n",
       "      <td>The seed on its back is filled with nutrients....</td>\n",
       "    </tr>\n",
       "    <tr>\n",
       "      <th>3</th>\n",
       "      <td>Bulbasaur</td>\n",
       "      <td>It carries a seed on its back right from birth...</td>\n",
       "    </tr>\n",
       "    <tr>\n",
       "      <th>4</th>\n",
       "      <td>Bulbasaur</td>\n",
       "      <td>While it is young, it uses the nutrients that ...</td>\n",
       "    </tr>\n",
       "    <tr>\n",
       "      <th>...</th>\n",
       "      <td>...</td>\n",
       "      <td>...</td>\n",
       "    </tr>\n",
       "    <tr>\n",
       "      <th>3</th>\n",
       "      <td>Koraidon</td>\n",
       "      <td>It has similar characteristics to a creature d...</td>\n",
       "    </tr>\n",
       "    <tr>\n",
       "      <th>0</th>\n",
       "      <td>Miraidon</td>\n",
       "      <td>Much remains unknown about this creature. It r...</td>\n",
       "    </tr>\n",
       "    <tr>\n",
       "      <th>1</th>\n",
       "      <td>Miraidon</td>\n",
       "      <td>This seems to be the Iron Serpent mentioned in...</td>\n",
       "    </tr>\n",
       "    <tr>\n",
       "      <th>2</th>\n",
       "      <td>Miraidon</td>\n",
       "      <td>Its characteristics match those of a mysteriou...</td>\n",
       "    </tr>\n",
       "    <tr>\n",
       "      <th>3</th>\n",
       "      <td>Miraidon</td>\n",
       "      <td>It was given the name Miraidon by the professo...</td>\n",
       "    </tr>\n",
       "  </tbody>\n",
       "</table>\n",
       "<p>12596 rows × 2 columns</p>\n",
       "</div>"
      ],
      "text/plain": [
       "      Pokemon                                        Description\n",
       "0   Bulbasaur  A strange seed was planted on its back at birt...\n",
       "1   Bulbasaur  It can go for days without eating a single mor...\n",
       "2   Bulbasaur  The seed on its back is filled with nutrients....\n",
       "3   Bulbasaur  It carries a seed on its back right from birth...\n",
       "4   Bulbasaur  While it is young, it uses the nutrients that ...\n",
       "..        ...                                                ...\n",
       "3    Koraidon  It has similar characteristics to a creature d...\n",
       "0    Miraidon  Much remains unknown about this creature. It r...\n",
       "1    Miraidon  This seems to be the Iron Serpent mentioned in...\n",
       "2    Miraidon  Its characteristics match those of a mysteriou...\n",
       "3    Miraidon  It was given the name Miraidon by the professo...\n",
       "\n",
       "[12596 rows x 2 columns]"
      ]
     },
     "execution_count": 102,
     "metadata": {},
     "output_type": "execute_result"
    }
   ],
   "source": [
    "poke_df"
   ]
  },
  {
   "cell_type": "code",
   "execution_count": 103,
   "metadata": {},
   "outputs": [],
   "source": [
    "poke_df.to_pickle('poke_df.pkl')"
   ]
  },
  {
   "cell_type": "code",
   "execution_count": 133,
   "metadata": {},
   "outputs": [
    {
     "data": {
      "text/plain": [
       "Text(7, 150, 'The percent of Pokemon with 10 entries or more is 54.76%')"
      ]
     },
     "execution_count": 133,
     "metadata": {},
     "output_type": "execute_result"
    },
    {
     "data": {
      "image/png": "[encoded data removed]",
      "text/plain": [
       "<Figure size 432x288 with 1 Axes>"
      ]
     },
     "metadata": {
      "needs_background": "light"
     },
     "output_type": "display_data"
    }
   ],
   "source": [
    "sns.histplot(poke_df[['Pokemon']].value_counts())\n",
    "plt.title('Histogram of Pokemon Entry Counts in Pokedex')\n",
    "plt.annotate('The percent of Pokemon with 10 entries or more is {}%'\n",
    ".format(round(100*sum(poke_df[['Pokemon']].value_counts() >= 10)/len(poke_df[['Pokemon']].\n",
    "value_counts()),2))\n",
    ",xy = (7,150))\n"
   ]
  },
  {
   "cell_type": "code",
   "execution_count": 130,
   "metadata": {},
   "outputs": [
    {
     "data": {
      "text/plain": [
       "0.6"
      ]
     },
     "execution_count": 130,
     "metadata": {},
     "output_type": "execute_result"
    }
   ],
   "source": [
    "round(100*sum(poke_df[['Pokemon']].value_counts() <= 1)/len(poke_df[['Pokemon']].value_counts()),2)"
   ]
  },
  {
   "attachments": {},
   "cell_type": "markdown",
   "metadata": {},
   "source": [
    "1. 15% 2 or less\n",
    "1. 0.6% only have one observations"
   ]
  },
  {
   "cell_type": "code",
   "execution_count": 132,
   "metadata": {},
   "outputs": [
    {
     "data": {
      "text/plain": [
       "Pokemon         \n",
       "Pikachu             68\n",
       "Vivillon            42\n",
       "Raichu              39\n",
       "Gengar              37\n",
       "Rotom               37\n",
       "                    ..\n",
       "Kleavor              1\n",
       "Wyrdeer              1\n",
       "Overqwil             1\n",
       "Basculegion Male     1\n",
       "Sneasler             1\n",
       "Length: 1008, dtype: int64"
      ]
     },
     "execution_count": 132,
     "metadata": {},
     "output_type": "execute_result"
    }
   ],
   "source": [
    "poke_df[['Pokemon']].value_counts()"
   ]
  },
  {
   "cell_type": "code",
   "execution_count": null,
   "metadata": {},
   "outputs": [],
   "source": []
  }
 ],
 "metadata": {
  "kernelspec": {
   "display_name": "base",
   "language": "python",
   "name": "python3"
  },
  "language_info": {
   "codemirror_mode": {
    "name": "ipython",
    "version": 3
   },
   "file_extension": ".py",
   "mimetype": "text/x-python",
   "name": "python",
   "nbconvert_exporter": "python",
   "pygments_lexer": "ipython3",
   "version": "3.10.9 (main, Jan 11 2023, 09:18:18) [Clang 14.0.6 ]"
  },
  "orig_nbformat": 4,
  "vscode": {
   "interpreter": {
    "hash": "909dd5933edbcbe4b3beeac3480652aae134615a7c9daf572d8692052151500c"
   }
  }
 },
 "nbformat": 4,
 "nbformat_minor": 2
}
